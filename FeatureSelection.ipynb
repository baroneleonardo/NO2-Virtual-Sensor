{
  "nbformat": 4,
  "nbformat_minor": 0,
  "metadata": {
    "colab": {
      "provenance": [],
      "authorship_tag": "ABX9TyPSZHHxU6pBPi3gG3LX4MQT",
      "include_colab_link": true
    },
    "kernelspec": {
      "name": "python3",
      "display_name": "Python 3"
    },
    "language_info": {
      "name": "python"
    }
  },
  "cells": [
    {
      "cell_type": "markdown",
      "metadata": {
        "id": "view-in-github",
        "colab_type": "text"
      },
      "source": [
        "<a href=\"https://colab.research.google.com/github/baroneleonardo/NO2-Virtual-Sensor/blob/main/FeatureSelection.ipynb\" target=\"_parent\"><img src=\"https://colab.research.google.com/assets/colab-badge.svg\" alt=\"Open In Colab\"/></a>"
      ]
    },
    {
      "cell_type": "markdown",
      "source": [
        "## SVM"
      ],
      "metadata": {
        "id": "HL2cFSOpzmCb"
      }
    },
    {
      "cell_type": "code",
      "source": [
        "from sklearn.svm import SVR\n",
        "import numpy as np\n",
        "import pandas as pd\n",
        "from sklearn.preprocessing import StandardScaler\n",
        "from sklearn.model_selection import train_test_split\n",
        "from sklearn import metrics\n",
        "from sklearn.preprocessing import StandardScaler\n",
        "import itertools\n",
        "from tqdm import tqdm\n",
        "import os\n",
        "os.environ.setdefault('OMP_NUM_THREADS', '4')\n",
        "seed = 42"
      ],
      "metadata": {
        "id": "yMxdxZzRG8-w"
      },
      "execution_count": 3,
      "outputs": []
    },
    {
      "cell_type": "code",
      "source": [
        "# Load the CSV file\n",
        "data = pd.read_csv(\"data_dausare.csv\")\n",
        "data = data.set_index('Datetime')\n",
        "\n",
        "# Remove any missing values\n",
        "data = data.dropna(subset = [\"NO2(GT)\"])\n",
        "data = data.dropna(subset = [\"T\"])\n",
        "target = pd.DataFrame(data['NO2(GT)'])\n",
        "X = data.drop(['NO2(GT)'], axis=1)\n"
      ],
      "metadata": {
        "id": "BPQN52IhMfog"
      },
      "execution_count": 6,
      "outputs": []
    },
    {
      "cell_type": "code",
      "execution_count": null,
      "metadata": {
        "colab": {
          "base_uri": "https://localhost:8080/"
        },
        "id": "b5bPcDzFy0FR",
        "outputId": "ec7ce272-7fa3-4cb0-cabe-ebec7789164a"
      },
      "outputs": [
        {
          "output_type": "stream",
          "name": "stdout",
          "text": [
            ">>> K=3\n"
          ]
        },
        {
          "output_type": "stream",
          "name": "stderr",
          "text": [
            "\r  0%|          | 0/35 [00:00<?, ?it/s]/usr/local/lib/python3.10/dist-packages/sklearn/utils/validation.py:1143: DataConversionWarning: A column-vector y was passed when a 1d array was expected. Please change the shape of y to (n_samples, ), for example using ravel().\n",
            "  y = column_or_1d(y, warn=True)\n",
            "  3%|▎         | 1/35 [00:02<01:27,  2.58s/it]/usr/local/lib/python3.10/dist-packages/sklearn/utils/validation.py:1143: DataConversionWarning: A column-vector y was passed when a 1d array was expected. Please change the shape of y to (n_samples, ), for example using ravel().\n",
            "  y = column_or_1d(y, warn=True)\n",
            "  6%|▌         | 2/35 [00:05<01:23,  2.52s/it]/usr/local/lib/python3.10/dist-packages/sklearn/utils/validation.py:1143: DataConversionWarning: A column-vector y was passed when a 1d array was expected. Please change the shape of y to (n_samples, ), for example using ravel().\n",
            "  y = column_or_1d(y, warn=True)\n",
            "  9%|▊         | 3/35 [00:09<01:44,  3.28s/it]/usr/local/lib/python3.10/dist-packages/sklearn/utils/validation.py:1143: DataConversionWarning: A column-vector y was passed when a 1d array was expected. Please change the shape of y to (n_samples, ), for example using ravel().\n",
            "  y = column_or_1d(y, warn=True)\n",
            " 11%|█▏        | 4/35 [00:11<01:34,  3.05s/it]/usr/local/lib/python3.10/dist-packages/sklearn/utils/validation.py:1143: DataConversionWarning: A column-vector y was passed when a 1d array was expected. Please change the shape of y to (n_samples, ), for example using ravel().\n",
            "  y = column_or_1d(y, warn=True)\n",
            " 14%|█▍        | 5/35 [00:15<01:39,  3.32s/it]/usr/local/lib/python3.10/dist-packages/sklearn/utils/validation.py:1143: DataConversionWarning: A column-vector y was passed when a 1d array was expected. Please change the shape of y to (n_samples, ), for example using ravel().\n",
            "  y = column_or_1d(y, warn=True)\n",
            " 17%|█▋        | 6/35 [00:19<01:44,  3.60s/it]/usr/local/lib/python3.10/dist-packages/sklearn/utils/validation.py:1143: DataConversionWarning: A column-vector y was passed when a 1d array was expected. Please change the shape of y to (n_samples, ), for example using ravel().\n",
            "  y = column_or_1d(y, warn=True)\n",
            " 20%|██        | 7/35 [00:24<01:49,  3.92s/it]/usr/local/lib/python3.10/dist-packages/sklearn/utils/validation.py:1143: DataConversionWarning: A column-vector y was passed when a 1d array was expected. Please change the shape of y to (n_samples, ), for example using ravel().\n",
            "  y = column_or_1d(y, warn=True)\n",
            " 23%|██▎       | 8/35 [00:26<01:33,  3.46s/it]/usr/local/lib/python3.10/dist-packages/sklearn/utils/validation.py:1143: DataConversionWarning: A column-vector y was passed when a 1d array was expected. Please change the shape of y to (n_samples, ), for example using ravel().\n",
            "  y = column_or_1d(y, warn=True)\n",
            " 26%|██▌       | 9/35 [00:29<01:23,  3.20s/it]/usr/local/lib/python3.10/dist-packages/sklearn/utils/validation.py:1143: DataConversionWarning: A column-vector y was passed when a 1d array was expected. Please change the shape of y to (n_samples, ), for example using ravel().\n",
            "  y = column_or_1d(y, warn=True)\n",
            " 29%|██▊       | 10/35 [00:38<02:00,  4.84s/it]/usr/local/lib/python3.10/dist-packages/sklearn/utils/validation.py:1143: DataConversionWarning: A column-vector y was passed when a 1d array was expected. Please change the shape of y to (n_samples, ), for example using ravel().\n",
            "  y = column_or_1d(y, warn=True)\n",
            " 31%|███▏      | 11/35 [00:45<02:16,  5.70s/it]/usr/local/lib/python3.10/dist-packages/sklearn/utils/validation.py:1143: DataConversionWarning: A column-vector y was passed when a 1d array was expected. Please change the shape of y to (n_samples, ), for example using ravel().\n",
            "  y = column_or_1d(y, warn=True)\n",
            " 34%|███▍      | 12/35 [00:50<02:05,  5.46s/it]/usr/local/lib/python3.10/dist-packages/sklearn/utils/validation.py:1143: DataConversionWarning: A column-vector y was passed when a 1d array was expected. Please change the shape of y to (n_samples, ), for example using ravel().\n",
            "  y = column_or_1d(y, warn=True)\n",
            " 37%|███▋      | 13/35 [00:53<01:40,  4.55s/it]/usr/local/lib/python3.10/dist-packages/sklearn/utils/validation.py:1143: DataConversionWarning: A column-vector y was passed when a 1d array was expected. Please change the shape of y to (n_samples, ), for example using ravel().\n",
            "  y = column_or_1d(y, warn=True)\n",
            " 40%|████      | 14/35 [00:55<01:22,  3.92s/it]/usr/local/lib/python3.10/dist-packages/sklearn/utils/validation.py:1143: DataConversionWarning: A column-vector y was passed when a 1d array was expected. Please change the shape of y to (n_samples, ), for example using ravel().\n",
            "  y = column_or_1d(y, warn=True)\n",
            " 43%|████▎     | 15/35 [00:58<01:09,  3.48s/it]/usr/local/lib/python3.10/dist-packages/sklearn/utils/validation.py:1143: DataConversionWarning: A column-vector y was passed when a 1d array was expected. Please change the shape of y to (n_samples, ), for example using ravel().\n",
            "  y = column_or_1d(y, warn=True)\n",
            " 46%|████▌     | 16/35 [01:01<01:07,  3.53s/it]/usr/local/lib/python3.10/dist-packages/sklearn/utils/validation.py:1143: DataConversionWarning: A column-vector y was passed when a 1d array was expected. Please change the shape of y to (n_samples, ), for example using ravel().\n",
            "  y = column_or_1d(y, warn=True)\n",
            " 49%|████▊     | 17/35 [01:04<00:59,  3.30s/it]/usr/local/lib/python3.10/dist-packages/sklearn/utils/validation.py:1143: DataConversionWarning: A column-vector y was passed when a 1d array was expected. Please change the shape of y to (n_samples, ), for example using ravel().\n",
            "  y = column_or_1d(y, warn=True)\n",
            " 51%|█████▏    | 18/35 [01:06<00:52,  3.06s/it]/usr/local/lib/python3.10/dist-packages/sklearn/utils/validation.py:1143: DataConversionWarning: A column-vector y was passed when a 1d array was expected. Please change the shape of y to (n_samples, ), for example using ravel().\n",
            "  y = column_or_1d(y, warn=True)\n",
            " 54%|█████▍    | 19/35 [01:09<00:47,  2.95s/it]/usr/local/lib/python3.10/dist-packages/sklearn/utils/validation.py:1143: DataConversionWarning: A column-vector y was passed when a 1d array was expected. Please change the shape of y to (n_samples, ), for example using ravel().\n",
            "  y = column_or_1d(y, warn=True)\n",
            " 57%|█████▋    | 20/35 [01:15<00:55,  3.71s/it]/usr/local/lib/python3.10/dist-packages/sklearn/utils/validation.py:1143: DataConversionWarning: A column-vector y was passed when a 1d array was expected. Please change the shape of y to (n_samples, ), for example using ravel().\n",
            "  y = column_or_1d(y, warn=True)\n",
            " 60%|██████    | 21/35 [01:18<00:52,  3.73s/it]/usr/local/lib/python3.10/dist-packages/sklearn/utils/validation.py:1143: DataConversionWarning: A column-vector y was passed when a 1d array was expected. Please change the shape of y to (n_samples, ), for example using ravel().\n",
            "  y = column_or_1d(y, warn=True)\n",
            " 63%|██████▎   | 22/35 [01:21<00:43,  3.35s/it]/usr/local/lib/python3.10/dist-packages/sklearn/utils/validation.py:1143: DataConversionWarning: A column-vector y was passed when a 1d array was expected. Please change the shape of y to (n_samples, ), for example using ravel().\n",
            "  y = column_or_1d(y, warn=True)\n",
            " 66%|██████▌   | 23/35 [01:24<00:39,  3.27s/it]/usr/local/lib/python3.10/dist-packages/sklearn/utils/validation.py:1143: DataConversionWarning: A column-vector y was passed when a 1d array was expected. Please change the shape of y to (n_samples, ), for example using ravel().\n",
            "  y = column_or_1d(y, warn=True)\n",
            " 69%|██████▊   | 24/35 [01:28<00:37,  3.45s/it]/usr/local/lib/python3.10/dist-packages/sklearn/utils/validation.py:1143: DataConversionWarning: A column-vector y was passed when a 1d array was expected. Please change the shape of y to (n_samples, ), for example using ravel().\n",
            "  y = column_or_1d(y, warn=True)\n",
            " 71%|███████▏  | 25/35 [01:31<00:33,  3.30s/it]/usr/local/lib/python3.10/dist-packages/sklearn/utils/validation.py:1143: DataConversionWarning: A column-vector y was passed when a 1d array was expected. Please change the shape of y to (n_samples, ), for example using ravel().\n",
            "  y = column_or_1d(y, warn=True)\n",
            " 74%|███████▍  | 26/35 [01:35<00:33,  3.68s/it]/usr/local/lib/python3.10/dist-packages/sklearn/utils/validation.py:1143: DataConversionWarning: A column-vector y was passed when a 1d array was expected. Please change the shape of y to (n_samples, ), for example using ravel().\n",
            "  y = column_or_1d(y, warn=True)\n",
            " 77%|███████▋  | 27/35 [01:39<00:30,  3.81s/it]/usr/local/lib/python3.10/dist-packages/sklearn/utils/validation.py:1143: DataConversionWarning: A column-vector y was passed when a 1d array was expected. Please change the shape of y to (n_samples, ), for example using ravel().\n",
            "  y = column_or_1d(y, warn=True)\n",
            " 80%|████████  | 28/35 [01:44<00:29,  4.19s/it]/usr/local/lib/python3.10/dist-packages/sklearn/utils/validation.py:1143: DataConversionWarning: A column-vector y was passed when a 1d array was expected. Please change the shape of y to (n_samples, ), for example using ravel().\n",
            "  y = column_or_1d(y, warn=True)\n",
            " 83%|████████▎ | 29/35 [01:47<00:22,  3.67s/it]/usr/local/lib/python3.10/dist-packages/sklearn/utils/validation.py:1143: DataConversionWarning: A column-vector y was passed when a 1d array was expected. Please change the shape of y to (n_samples, ), for example using ravel().\n",
            "  y = column_or_1d(y, warn=True)\n",
            " 86%|████████▌ | 30/35 [01:49<00:16,  3.31s/it]/usr/local/lib/python3.10/dist-packages/sklearn/utils/validation.py:1143: DataConversionWarning: A column-vector y was passed when a 1d array was expected. Please change the shape of y to (n_samples, ), for example using ravel().\n",
            "  y = column_or_1d(y, warn=True)\n",
            " 89%|████████▊ | 31/35 [01:53<00:13,  3.28s/it]/usr/local/lib/python3.10/dist-packages/sklearn/utils/validation.py:1143: DataConversionWarning: A column-vector y was passed when a 1d array was expected. Please change the shape of y to (n_samples, ), for example using ravel().\n",
            "  y = column_or_1d(y, warn=True)\n",
            " 91%|█████████▏| 32/35 [01:56<00:09,  3.25s/it]/usr/local/lib/python3.10/dist-packages/sklearn/utils/validation.py:1143: DataConversionWarning: A column-vector y was passed when a 1d array was expected. Please change the shape of y to (n_samples, ), for example using ravel().\n",
            "  y = column_or_1d(y, warn=True)\n",
            " 94%|█████████▍| 33/35 [01:58<00:06,  3.03s/it]/usr/local/lib/python3.10/dist-packages/sklearn/utils/validation.py:1143: DataConversionWarning: A column-vector y was passed when a 1d array was expected. Please change the shape of y to (n_samples, ), for example using ravel().\n",
            "  y = column_or_1d(y, warn=True)\n",
            " 97%|█████████▋| 34/35 [02:01<00:02,  2.87s/it]/usr/local/lib/python3.10/dist-packages/sklearn/utils/validation.py:1143: DataConversionWarning: A column-vector y was passed when a 1d array was expected. Please change the shape of y to (n_samples, ), for example using ravel().\n",
            "  y = column_or_1d(y, warn=True)\n",
            "100%|██████████| 35/35 [02:03<00:00,  3.54s/it]"
          ]
        },
        {
          "output_type": "stream",
          "name": "stdout",
          "text": [
            "[{'dropping': ['PT08.S1(CO)', 'PT08.S2(NMHC)', 'PT08.S3(NOx)'], 'remaining_cols': ['PT08.S5(O3)', 'T', 'RH', 'AH'], 'r2': 0.7215105235137694, 'rmse': 24.913569432727712}, {'dropping': ['PT08.S1(CO)', 'PT08.S2(NMHC)', 'PT08.S5(O3)'], 'remaining_cols': ['PT08.S3(NOx)', 'T', 'RH', 'AH'], 'r2': 0.7648935063933732, 'rmse': 22.890952929945843}, {'dropping': ['PT08.S1(CO)', 'PT08.S2(NMHC)', 'T'], 'remaining_cols': ['PT08.S3(NOx)', 'PT08.S5(O3)', 'RH', 'AH'], 'r2': 0.7899801598699011, 'rmse': 21.63524023430575}, {'dropping': ['PT08.S1(CO)', 'PT08.S2(NMHC)', 'RH'], 'remaining_cols': ['PT08.S3(NOx)', 'PT08.S5(O3)', 'T', 'AH'], 'r2': 0.7957062035699022, 'rmse': 21.33826722726017}, {'dropping': ['PT08.S1(CO)', 'PT08.S2(NMHC)', 'AH'], 'remaining_cols': ['PT08.S3(NOx)', 'PT08.S5(O3)', 'T', 'RH'], 'r2': 0.791023618997269, 'rmse': 21.581427223878936}, {'dropping': ['PT08.S1(CO)', 'PT08.S3(NOx)', 'PT08.S5(O3)'], 'remaining_cols': ['PT08.S2(NMHC)', 'T', 'RH', 'AH'], 'r2': 0.7268408403698724, 'rmse': 24.673993392457458}, {'dropping': ['PT08.S1(CO)', 'PT08.S3(NOx)', 'T'], 'remaining_cols': ['PT08.S2(NMHC)', 'PT08.S5(O3)', 'RH', 'AH'], 'r2': 0.7534180474042225, 'rmse': 23.4429468956061}, {'dropping': ['PT08.S1(CO)', 'PT08.S3(NOx)', 'RH'], 'remaining_cols': ['PT08.S2(NMHC)', 'PT08.S5(O3)', 'T', 'AH'], 'r2': 0.7616594908613676, 'rmse': 23.047853857473218}, {'dropping': ['PT08.S1(CO)', 'PT08.S3(NOx)', 'AH'], 'remaining_cols': ['PT08.S2(NMHC)', 'PT08.S5(O3)', 'T', 'RH'], 'r2': 0.7577208344725702, 'rmse': 23.237510269359042}, {'dropping': ['PT08.S1(CO)', 'PT08.S5(O3)', 'T'], 'remaining_cols': ['PT08.S2(NMHC)', 'PT08.S3(NOx)', 'RH', 'AH'], 'r2': 0.7935268164973688, 'rmse': 21.4517826049452}, {'dropping': ['PT08.S1(CO)', 'PT08.S5(O3)', 'RH'], 'remaining_cols': ['PT08.S2(NMHC)', 'PT08.S3(NOx)', 'T', 'AH'], 'r2': 0.7985412135525698, 'rmse': 21.18969311004282}, {'dropping': ['PT08.S1(CO)', 'PT08.S5(O3)', 'AH'], 'remaining_cols': ['PT08.S2(NMHC)', 'PT08.S3(NOx)', 'T', 'RH'], 'r2': 0.7948604007298001, 'rmse': 21.382393200923094}, {'dropping': ['PT08.S1(CO)', 'T', 'RH'], 'remaining_cols': ['PT08.S2(NMHC)', 'PT08.S3(NOx)', 'PT08.S5(O3)', 'AH'], 'r2': 0.7866909069204208, 'rmse': 21.804003583856563}, {'dropping': ['PT08.S1(CO)', 'T', 'AH'], 'remaining_cols': ['PT08.S2(NMHC)', 'PT08.S3(NOx)', 'PT08.S5(O3)', 'RH'], 'r2': 0.6191750458594492, 'rmse': 29.133607125497004}, {'dropping': ['PT08.S1(CO)', 'RH', 'AH'], 'remaining_cols': ['PT08.S2(NMHC)', 'PT08.S3(NOx)', 'PT08.S5(O3)', 'T'], 'r2': 0.7280209568622563, 'rmse': 24.620636762989264}, {'dropping': ['PT08.S2(NMHC)', 'PT08.S3(NOx)', 'PT08.S5(O3)'], 'remaining_cols': ['PT08.S1(CO)', 'T', 'RH', 'AH'], 'r2': 0.7206741260299623, 'rmse': 24.950953295280573}, {'dropping': ['PT08.S2(NMHC)', 'PT08.S3(NOx)', 'T'], 'remaining_cols': ['PT08.S1(CO)', 'PT08.S5(O3)', 'RH', 'AH'], 'r2': 0.7585175329439741, 'rmse': 23.199272285740502}, {'dropping': ['PT08.S2(NMHC)', 'PT08.S3(NOx)', 'RH'], 'remaining_cols': ['PT08.S1(CO)', 'PT08.S5(O3)', 'T', 'AH'], 'r2': 0.7647994873355096, 'rmse': 22.8955295170774}, {'dropping': ['PT08.S2(NMHC)', 'PT08.S3(NOx)', 'AH'], 'remaining_cols': ['PT08.S1(CO)', 'PT08.S5(O3)', 'T', 'RH'], 'r2': 0.7606257940451855, 'rmse': 23.097779732531638}, {'dropping': ['PT08.S2(NMHC)', 'PT08.S5(O3)', 'T'], 'remaining_cols': ['PT08.S1(CO)', 'PT08.S3(NOx)', 'RH', 'AH'], 'r2': 0.7884753067112941, 'rmse': 21.712613271938938}, {'dropping': ['PT08.S2(NMHC)', 'PT08.S5(O3)', 'RH'], 'remaining_cols': ['PT08.S1(CO)', 'PT08.S3(NOx)', 'T', 'AH'], 'r2': 0.7938237743532981, 'rmse': 21.436350655372113}, {'dropping': ['PT08.S2(NMHC)', 'PT08.S5(O3)', 'AH'], 'remaining_cols': ['PT08.S1(CO)', 'PT08.S3(NOx)', 'T', 'RH'], 'r2': 0.7889044548260499, 'rmse': 21.690576464237783}, {'dropping': ['PT08.S2(NMHC)', 'T', 'RH'], 'remaining_cols': ['PT08.S1(CO)', 'PT08.S3(NOx)', 'PT08.S5(O3)', 'AH'], 'r2': 0.766610448927481, 'rmse': 22.807215411458078}, {'dropping': ['PT08.S2(NMHC)', 'T', 'AH'], 'remaining_cols': ['PT08.S1(CO)', 'PT08.S3(NOx)', 'PT08.S5(O3)', 'RH'], 'r2': 0.5993238291112216, 'rmse': 29.883283674709535}, {'dropping': ['PT08.S2(NMHC)', 'RH', 'AH'], 'remaining_cols': ['PT08.S1(CO)', 'PT08.S3(NOx)', 'PT08.S5(O3)', 'T'], 'r2': 0.6942556352272522, 'rmse': 26.104224196209625}, {'dropping': ['PT08.S3(NOx)', 'PT08.S5(O3)', 'T'], 'remaining_cols': ['PT08.S1(CO)', 'PT08.S2(NMHC)', 'RH', 'AH'], 'r2': 0.747542866041237, 'rmse': 23.72058436887426}, {'dropping': ['PT08.S3(NOx)', 'PT08.S5(O3)', 'RH'], 'remaining_cols': ['PT08.S1(CO)', 'PT08.S2(NMHC)', 'T', 'AH'], 'r2': 0.7549726182508457, 'rmse': 23.368932267056866}, {'dropping': ['PT08.S3(NOx)', 'PT08.S5(O3)', 'AH'], 'remaining_cols': ['PT08.S1(CO)', 'PT08.S2(NMHC)', 'T', 'RH'], 'r2': 0.7500815145691317, 'rmse': 23.601018768519143}, {'dropping': ['PT08.S3(NOx)', 'T', 'RH'], 'remaining_cols': ['PT08.S1(CO)', 'PT08.S2(NMHC)', 'PT08.S5(O3)', 'AH'], 'r2': 0.7523204370502201, 'rmse': 23.495064761846027}, {'dropping': ['PT08.S3(NOx)', 'T', 'AH'], 'remaining_cols': ['PT08.S1(CO)', 'PT08.S2(NMHC)', 'PT08.S5(O3)', 'RH'], 'r2': 0.5939875393202534, 'rmse': 30.08162142179384}, {'dropping': ['PT08.S3(NOx)', 'RH', 'AH'], 'remaining_cols': ['PT08.S1(CO)', 'PT08.S2(NMHC)', 'PT08.S5(O3)', 'T'], 'r2': 0.7063129720737615, 'rmse': 25.58432375956898}, {'dropping': ['PT08.S5(O3)', 'T', 'RH'], 'remaining_cols': ['PT08.S1(CO)', 'PT08.S2(NMHC)', 'PT08.S3(NOx)', 'AH'], 'r2': 0.7789569677025341, 'rmse': 22.195757687718604}, {'dropping': ['PT08.S5(O3)', 'T', 'AH'], 'remaining_cols': ['PT08.S1(CO)', 'PT08.S2(NMHC)', 'PT08.S3(NOx)', 'RH'], 'r2': 0.5515269786756546, 'rmse': 31.615475740458717}, {'dropping': ['PT08.S5(O3)', 'RH', 'AH'], 'remaining_cols': ['PT08.S1(CO)', 'PT08.S2(NMHC)', 'PT08.S3(NOx)', 'T'], 'r2': 0.6999199549183703, 'rmse': 25.86128606808647}, {'dropping': ['T', 'RH', 'AH'], 'remaining_cols': ['PT08.S1(CO)', 'PT08.S2(NMHC)', 'PT08.S3(NOx)', 'PT08.S5(O3)'], 'r2': 0.570810833122487, 'rmse': 30.928291920517342}]\n",
            ">>> Saved\n"
          ]
        },
        {
          "output_type": "stream",
          "name": "stderr",
          "text": [
            "\n"
          ]
        }
      ],
      "source": [
        "\n",
        "C, gamma = (2.154435,0.464159)\n",
        "\n",
        "x_train, x_val, y_train, y_val = train_test_split(X, target, test_size=0.3, random_state=seed, shuffle=True)\n",
        "\n",
        "K = 3\n",
        "all_cols = [c for c in list(x_train.columns.values)]\n",
        "assert 1 <= K and K <= len(all_cols)\n",
        "print(f'>>> {K=}')\n",
        "\n",
        "cols = [list(x) for x in itertools.combinations(all_cols, K)]\n",
        "\n",
        "scaler = StandardScaler()\n",
        "res = []\n",
        "for c in tqdm(cols):\n",
        "    _x_train = x_train.drop(columns=c) \n",
        "    _x_val = x_val.drop(columns=c)\n",
        "\n",
        "    clf = SVR(C=C, gamma=gamma, kernel='rbf')\n",
        "    clf.fit(scaler.fit_transform(_x_train), y_train)\n",
        "    r2 = clf.score(scaler.transform(_x_val), y_val)\n",
        "    y_hat = clf.predict(scaler.transform(_x_val))\n",
        "    rmse = metrics.mean_squared_error(y_val, y_hat, squared=False)\n",
        "    res.append({\n",
        "        'dropping': c,\n",
        "        'remaining_cols': list(_x_train.columns.values),\n",
        "        'r2': r2,\n",
        "        'rmse': rmse,\n",
        "    })\n",
        "\n",
        "\n",
        "print(res)\n",
        "pd.DataFrame(res).to_csv(f'_{K}_select.csv')\n",
        "print('>>> Saved')"
      ]
    },
    {
      "cell_type": "markdown",
      "source": [
        "## Random Forest\n"
      ],
      "metadata": {
        "id": "sFti85xz0KYo"
      }
    },
    {
      "cell_type": "code",
      "source": [
        "from sklearn.ensemble import RandomForestRegressor\n",
        "\n",
        "x_train, x_val, y_train, y_val = train_test_split(X, target, test_size=0.3, random_state=seed, shuffle=True)\n",
        "\n",
        "K = 3\n",
        "all_cols = [c for c in list(x_train.columns.values)]\n",
        "assert 1 <= K and K <= len(all_cols)\n",
        "print(f'>>> {K=}')\n",
        "\n",
        "cols = [list(x) for x in itertools.combinations(all_cols, K)]\n",
        "\n",
        "scaler = StandardScaler()\n",
        "res = []\n",
        "\n",
        "max_depth, n_estimators = (7,200)\n",
        "for c in tqdm(cols):\n",
        "    _x_train = x_train.drop(columns=c) \n",
        "    _x_val = x_val.drop(columns=c)\n",
        "\n",
        "    clf = RandomForestRegressor(max_depth=max_depth, n_estimators=n_estimators)\n",
        "    clf.fit(scaler.fit_transform(_x_train), y_train)\n",
        "    r2 = clf.score(scaler.transform(_x_val), y_val)\n",
        "    y_hat = clf.predict(scaler.transform(_x_val))\n",
        "    rmse = metrics.mean_squared_error(y_val, y_hat, squared=False)\n",
        "    res.append({\n",
        "        'dropping': c,\n",
        "        'remaining_cols': list(_x_train.columns.values),\n",
        "        'r2': r2,\n",
        "        'rmse': rmse,\n",
        "    })\n",
        "\n",
        "\n",
        "print(res)\n",
        "pd.DataFrame(res).to_csv(f'_{K}_selectRF.csv')\n",
        "print('>>> Saved')"
      ],
      "metadata": {
        "colab": {
          "base_uri": "https://localhost:8080/"
        },
        "id": "or782Jd5zsJy",
        "outputId": "20f437cf-3efc-4bdd-e2d2-289e89ca5859"
      },
      "execution_count": 9,
      "outputs": [
        {
          "output_type": "stream",
          "name": "stdout",
          "text": [
            ">>> K=3\n"
          ]
        },
        {
          "output_type": "stream",
          "name": "stderr",
          "text": [
            "\r  0%|          | 0/35 [00:00<?, ?it/s]<ipython-input-9-c8dc8d907cf9>:21: DataConversionWarning: A column-vector y was passed when a 1d array was expected. Please change the shape of y to (n_samples,), for example using ravel().\n",
            "  clf.fit(scaler.fit_transform(_x_train), y_train)\n",
            "  3%|▎         | 1/35 [00:04<02:16,  4.01s/it]<ipython-input-9-c8dc8d907cf9>:21: DataConversionWarning: A column-vector y was passed when a 1d array was expected. Please change the shape of y to (n_samples,), for example using ravel().\n",
            "  clf.fit(scaler.fit_transform(_x_train), y_train)\n",
            "  6%|▌         | 2/35 [00:06<01:51,  3.37s/it]<ipython-input-9-c8dc8d907cf9>:21: DataConversionWarning: A column-vector y was passed when a 1d array was expected. Please change the shape of y to (n_samples,), for example using ravel().\n",
            "  clf.fit(scaler.fit_transform(_x_train), y_train)\n",
            "  9%|▊         | 3/35 [00:09<01:34,  2.96s/it]<ipython-input-9-c8dc8d907cf9>:21: DataConversionWarning: A column-vector y was passed when a 1d array was expected. Please change the shape of y to (n_samples,), for example using ravel().\n",
            "  clf.fit(scaler.fit_transform(_x_train), y_train)\n",
            " 11%|█▏        | 4/35 [00:11<01:24,  2.74s/it]<ipython-input-9-c8dc8d907cf9>:21: DataConversionWarning: A column-vector y was passed when a 1d array was expected. Please change the shape of y to (n_samples,), for example using ravel().\n",
            "  clf.fit(scaler.fit_transform(_x_train), y_train)\n",
            " 14%|█▍        | 5/35 [00:14<01:18,  2.60s/it]<ipython-input-9-c8dc8d907cf9>:21: DataConversionWarning: A column-vector y was passed when a 1d array was expected. Please change the shape of y to (n_samples,), for example using ravel().\n",
            "  clf.fit(scaler.fit_transform(_x_train), y_train)\n",
            " 17%|█▋        | 6/35 [00:17<01:25,  2.95s/it]<ipython-input-9-c8dc8d907cf9>:21: DataConversionWarning: A column-vector y was passed when a 1d array was expected. Please change the shape of y to (n_samples,), for example using ravel().\n",
            "  clf.fit(scaler.fit_transform(_x_train), y_train)\n",
            " 20%|██        | 7/35 [00:20<01:20,  2.86s/it]<ipython-input-9-c8dc8d907cf9>:21: DataConversionWarning: A column-vector y was passed when a 1d array was expected. Please change the shape of y to (n_samples,), for example using ravel().\n",
            "  clf.fit(scaler.fit_transform(_x_train), y_train)\n",
            " 23%|██▎       | 8/35 [00:22<01:13,  2.72s/it]<ipython-input-9-c8dc8d907cf9>:21: DataConversionWarning: A column-vector y was passed when a 1d array was expected. Please change the shape of y to (n_samples,), for example using ravel().\n",
            "  clf.fit(scaler.fit_transform(_x_train), y_train)\n",
            " 26%|██▌       | 9/35 [00:25<01:07,  2.60s/it]<ipython-input-9-c8dc8d907cf9>:21: DataConversionWarning: A column-vector y was passed when a 1d array was expected. Please change the shape of y to (n_samples,), for example using ravel().\n",
            "  clf.fit(scaler.fit_transform(_x_train), y_train)\n",
            " 29%|██▊       | 10/35 [00:27<01:03,  2.54s/it]<ipython-input-9-c8dc8d907cf9>:21: DataConversionWarning: A column-vector y was passed when a 1d array was expected. Please change the shape of y to (n_samples,), for example using ravel().\n",
            "  clf.fit(scaler.fit_transform(_x_train), y_train)\n",
            " 31%|███▏      | 11/35 [00:30<01:03,  2.66s/it]<ipython-input-9-c8dc8d907cf9>:21: DataConversionWarning: A column-vector y was passed when a 1d array was expected. Please change the shape of y to (n_samples,), for example using ravel().\n",
            "  clf.fit(scaler.fit_transform(_x_train), y_train)\n",
            " 34%|███▍      | 12/35 [00:33<01:01,  2.66s/it]<ipython-input-9-c8dc8d907cf9>:21: DataConversionWarning: A column-vector y was passed when a 1d array was expected. Please change the shape of y to (n_samples,), for example using ravel().\n",
            "  clf.fit(scaler.fit_transform(_x_train), y_train)\n",
            " 37%|███▋      | 13/35 [00:35<00:57,  2.60s/it]<ipython-input-9-c8dc8d907cf9>:21: DataConversionWarning: A column-vector y was passed when a 1d array was expected. Please change the shape of y to (n_samples,), for example using ravel().\n",
            "  clf.fit(scaler.fit_transform(_x_train), y_train)\n",
            " 40%|████      | 14/35 [00:38<00:53,  2.54s/it]<ipython-input-9-c8dc8d907cf9>:21: DataConversionWarning: A column-vector y was passed when a 1d array was expected. Please change the shape of y to (n_samples,), for example using ravel().\n",
            "  clf.fit(scaler.fit_transform(_x_train), y_train)\n",
            " 43%|████▎     | 15/35 [00:40<00:49,  2.50s/it]<ipython-input-9-c8dc8d907cf9>:21: DataConversionWarning: A column-vector y was passed when a 1d array was expected. Please change the shape of y to (n_samples,), for example using ravel().\n",
            "  clf.fit(scaler.fit_transform(_x_train), y_train)\n",
            " 46%|████▌     | 16/35 [00:43<00:50,  2.64s/it]<ipython-input-9-c8dc8d907cf9>:21: DataConversionWarning: A column-vector y was passed when a 1d array was expected. Please change the shape of y to (n_samples,), for example using ravel().\n",
            "  clf.fit(scaler.fit_transform(_x_train), y_train)\n",
            " 49%|████▊     | 17/35 [00:46<00:47,  2.66s/it]<ipython-input-9-c8dc8d907cf9>:21: DataConversionWarning: A column-vector y was passed when a 1d array was expected. Please change the shape of y to (n_samples,), for example using ravel().\n",
            "  clf.fit(scaler.fit_transform(_x_train), y_train)\n",
            " 51%|█████▏    | 18/35 [00:48<00:44,  2.60s/it]<ipython-input-9-c8dc8d907cf9>:21: DataConversionWarning: A column-vector y was passed when a 1d array was expected. Please change the shape of y to (n_samples,), for example using ravel().\n",
            "  clf.fit(scaler.fit_transform(_x_train), y_train)\n",
            " 54%|█████▍    | 19/35 [00:51<00:40,  2.55s/it]<ipython-input-9-c8dc8d907cf9>:21: DataConversionWarning: A column-vector y was passed when a 1d array was expected. Please change the shape of y to (n_samples,), for example using ravel().\n",
            "  clf.fit(scaler.fit_transform(_x_train), y_train)\n",
            " 57%|█████▋    | 20/35 [00:53<00:37,  2.51s/it]<ipython-input-9-c8dc8d907cf9>:21: DataConversionWarning: A column-vector y was passed when a 1d array was expected. Please change the shape of y to (n_samples,), for example using ravel().\n",
            "  clf.fit(scaler.fit_transform(_x_train), y_train)\n",
            " 60%|██████    | 21/35 [00:56<00:37,  2.67s/it]<ipython-input-9-c8dc8d907cf9>:21: DataConversionWarning: A column-vector y was passed when a 1d array was expected. Please change the shape of y to (n_samples,), for example using ravel().\n",
            "  clf.fit(scaler.fit_transform(_x_train), y_train)\n",
            " 63%|██████▎   | 22/35 [00:59<00:34,  2.64s/it]<ipython-input-9-c8dc8d907cf9>:21: DataConversionWarning: A column-vector y was passed when a 1d array was expected. Please change the shape of y to (n_samples,), for example using ravel().\n",
            "  clf.fit(scaler.fit_transform(_x_train), y_train)\n",
            " 66%|██████▌   | 23/35 [01:01<00:30,  2.57s/it]<ipython-input-9-c8dc8d907cf9>:21: DataConversionWarning: A column-vector y was passed when a 1d array was expected. Please change the shape of y to (n_samples,), for example using ravel().\n",
            "  clf.fit(scaler.fit_transform(_x_train), y_train)\n",
            " 69%|██████▊   | 24/35 [01:03<00:27,  2.50s/it]<ipython-input-9-c8dc8d907cf9>:21: DataConversionWarning: A column-vector y was passed when a 1d array was expected. Please change the shape of y to (n_samples,), for example using ravel().\n",
            "  clf.fit(scaler.fit_transform(_x_train), y_train)\n",
            " 71%|███████▏  | 25/35 [01:06<00:24,  2.45s/it]<ipython-input-9-c8dc8d907cf9>:21: DataConversionWarning: A column-vector y was passed when a 1d array was expected. Please change the shape of y to (n_samples,), for example using ravel().\n",
            "  clf.fit(scaler.fit_transform(_x_train), y_train)\n",
            " 74%|███████▍  | 26/35 [01:09<00:23,  2.61s/it]<ipython-input-9-c8dc8d907cf9>:21: DataConversionWarning: A column-vector y was passed when a 1d array was expected. Please change the shape of y to (n_samples,), for example using ravel().\n",
            "  clf.fit(scaler.fit_transform(_x_train), y_train)\n",
            " 77%|███████▋  | 27/35 [01:11<00:21,  2.64s/it]<ipython-input-9-c8dc8d907cf9>:21: DataConversionWarning: A column-vector y was passed when a 1d array was expected. Please change the shape of y to (n_samples,), for example using ravel().\n",
            "  clf.fit(scaler.fit_transform(_x_train), y_train)\n",
            " 80%|████████  | 28/35 [01:14<00:17,  2.56s/it]<ipython-input-9-c8dc8d907cf9>:21: DataConversionWarning: A column-vector y was passed when a 1d array was expected. Please change the shape of y to (n_samples,), for example using ravel().\n",
            "  clf.fit(scaler.fit_transform(_x_train), y_train)\n",
            " 83%|████████▎ | 29/35 [01:16<00:15,  2.51s/it]<ipython-input-9-c8dc8d907cf9>:21: DataConversionWarning: A column-vector y was passed when a 1d array was expected. Please change the shape of y to (n_samples,), for example using ravel().\n",
            "  clf.fit(scaler.fit_transform(_x_train), y_train)\n",
            " 86%|████████▌ | 30/35 [01:19<00:12,  2.49s/it]<ipython-input-9-c8dc8d907cf9>:21: DataConversionWarning: A column-vector y was passed when a 1d array was expected. Please change the shape of y to (n_samples,), for example using ravel().\n",
            "  clf.fit(scaler.fit_transform(_x_train), y_train)\n",
            " 89%|████████▊ | 31/35 [01:22<00:10,  2.65s/it]<ipython-input-9-c8dc8d907cf9>:21: DataConversionWarning: A column-vector y was passed when a 1d array was expected. Please change the shape of y to (n_samples,), for example using ravel().\n",
            "  clf.fit(scaler.fit_transform(_x_train), y_train)\n",
            " 91%|█████████▏| 32/35 [01:24<00:07,  2.65s/it]<ipython-input-9-c8dc8d907cf9>:21: DataConversionWarning: A column-vector y was passed when a 1d array was expected. Please change the shape of y to (n_samples,), for example using ravel().\n",
            "  clf.fit(scaler.fit_transform(_x_train), y_train)\n",
            " 94%|█████████▍| 33/35 [01:27<00:05,  2.59s/it]<ipython-input-9-c8dc8d907cf9>:21: DataConversionWarning: A column-vector y was passed when a 1d array was expected. Please change the shape of y to (n_samples,), for example using ravel().\n",
            "  clf.fit(scaler.fit_transform(_x_train), y_train)\n",
            " 97%|█████████▋| 34/35 [01:29<00:02,  2.52s/it]<ipython-input-9-c8dc8d907cf9>:21: DataConversionWarning: A column-vector y was passed when a 1d array was expected. Please change the shape of y to (n_samples,), for example using ravel().\n",
            "  clf.fit(scaler.fit_transform(_x_train), y_train)\n",
            "100%|██████████| 35/35 [01:31<00:00,  2.63s/it]"
          ]
        },
        {
          "output_type": "stream",
          "name": "stdout",
          "text": [
            "[{'dropping': ['PT08.S1(CO)', 'PT08.S2(NMHC)', 'PT08.S3(NOx)'], 'remaining_cols': ['PT08.S5(O3)', 'T', 'RH', 'AH'], 'r2': 0.7451559983771852, 'rmse': 23.83245425287566}, {'dropping': ['PT08.S1(CO)', 'PT08.S2(NMHC)', 'PT08.S5(O3)'], 'remaining_cols': ['PT08.S3(NOx)', 'T', 'RH', 'AH'], 'r2': 0.7817782281316893, 'rmse': 22.053656150616284}, {'dropping': ['PT08.S1(CO)', 'PT08.S2(NMHC)', 'T'], 'remaining_cols': ['PT08.S3(NOx)', 'PT08.S5(O3)', 'RH', 'AH'], 'r2': 0.808867006941363, 'rmse': 20.63951037702409}, {'dropping': ['PT08.S1(CO)', 'PT08.S2(NMHC)', 'RH'], 'remaining_cols': ['PT08.S3(NOx)', 'PT08.S5(O3)', 'T', 'AH'], 'r2': 0.8039982427528387, 'rmse': 20.90073421833073}, {'dropping': ['PT08.S1(CO)', 'PT08.S2(NMHC)', 'AH'], 'remaining_cols': ['PT08.S3(NOx)', 'PT08.S5(O3)', 'T', 'RH'], 'r2': 0.7907472033390642, 'rmse': 21.595695518324785}, {'dropping': ['PT08.S1(CO)', 'PT08.S3(NOx)', 'PT08.S5(O3)'], 'remaining_cols': ['PT08.S2(NMHC)', 'T', 'RH', 'AH'], 'r2': 0.7499467581973388, 'rmse': 23.60738076101569}, {'dropping': ['PT08.S1(CO)', 'PT08.S3(NOx)', 'T'], 'remaining_cols': ['PT08.S2(NMHC)', 'PT08.S5(O3)', 'RH', 'AH'], 'r2': 0.7803472990418348, 'rmse': 22.12584339122028}, {'dropping': ['PT08.S1(CO)', 'PT08.S3(NOx)', 'RH'], 'remaining_cols': ['PT08.S2(NMHC)', 'PT08.S5(O3)', 'T', 'AH'], 'r2': 0.7828112617359311, 'rmse': 22.00139465152437}, {'dropping': ['PT08.S1(CO)', 'PT08.S3(NOx)', 'AH'], 'remaining_cols': ['PT08.S2(NMHC)', 'PT08.S5(O3)', 'T', 'RH'], 'r2': 0.7689545950183989, 'rmse': 22.692389429123622}, {'dropping': ['PT08.S1(CO)', 'PT08.S5(O3)', 'T'], 'remaining_cols': ['PT08.S2(NMHC)', 'PT08.S3(NOx)', 'RH', 'AH'], 'r2': 0.818094155544625, 'rmse': 20.135150797064828}, {'dropping': ['PT08.S1(CO)', 'PT08.S5(O3)', 'RH'], 'remaining_cols': ['PT08.S2(NMHC)', 'PT08.S3(NOx)', 'T', 'AH'], 'r2': 0.8207333486697059, 'rmse': 19.98855102428498}, {'dropping': ['PT08.S1(CO)', 'PT08.S5(O3)', 'AH'], 'remaining_cols': ['PT08.S2(NMHC)', 'PT08.S3(NOx)', 'T', 'RH'], 'r2': 0.8032703586772565, 'rmse': 20.939507374536714}, {'dropping': ['PT08.S1(CO)', 'T', 'RH'], 'remaining_cols': ['PT08.S2(NMHC)', 'PT08.S3(NOx)', 'PT08.S5(O3)', 'AH'], 'r2': 0.8056464823649714, 'rmse': 20.81266830342218}, {'dropping': ['PT08.S1(CO)', 'T', 'AH'], 'remaining_cols': ['PT08.S2(NMHC)', 'PT08.S3(NOx)', 'PT08.S5(O3)', 'RH'], 'r2': 0.6425204193262946, 'rmse': 28.226509732577558}, {'dropping': ['PT08.S1(CO)', 'RH', 'AH'], 'remaining_cols': ['PT08.S2(NMHC)', 'PT08.S3(NOx)', 'PT08.S5(O3)', 'T'], 'r2': 0.7396740094236087, 'rmse': 24.087422199647072}, {'dropping': ['PT08.S2(NMHC)', 'PT08.S3(NOx)', 'PT08.S5(O3)'], 'remaining_cols': ['PT08.S1(CO)', 'T', 'RH', 'AH'], 'r2': 0.7363705218510137, 'rmse': 24.239772813660828}, {'dropping': ['PT08.S2(NMHC)', 'PT08.S3(NOx)', 'T'], 'remaining_cols': ['PT08.S1(CO)', 'PT08.S5(O3)', 'RH', 'AH'], 'r2': 0.7765489259535586, 'rmse': 22.31633043714649}, {'dropping': ['PT08.S2(NMHC)', 'PT08.S3(NOx)', 'RH'], 'remaining_cols': ['PT08.S1(CO)', 'PT08.S5(O3)', 'T', 'AH'], 'r2': 0.7698630497785268, 'rmse': 22.647733026334894}, {'dropping': ['PT08.S2(NMHC)', 'PT08.S3(NOx)', 'AH'], 'remaining_cols': ['PT08.S1(CO)', 'PT08.S5(O3)', 'T', 'RH'], 'r2': 0.7620048137344692, 'rmse': 23.031151207784117}, {'dropping': ['PT08.S2(NMHC)', 'PT08.S5(O3)', 'T'], 'remaining_cols': ['PT08.S1(CO)', 'PT08.S3(NOx)', 'RH', 'AH'], 'r2': 0.8022626112758755, 'rmse': 20.993070171659653}, {'dropping': ['PT08.S2(NMHC)', 'PT08.S5(O3)', 'RH'], 'remaining_cols': ['PT08.S1(CO)', 'PT08.S3(NOx)', 'T', 'AH'], 'r2': 0.7999564029311182, 'rmse': 21.115136228749986}, {'dropping': ['PT08.S2(NMHC)', 'PT08.S5(O3)', 'AH'], 'remaining_cols': ['PT08.S1(CO)', 'PT08.S3(NOx)', 'T', 'RH'], 'r2': 0.7868517826884966, 'rmse': 21.795779842903645}, {'dropping': ['PT08.S2(NMHC)', 'T', 'RH'], 'remaining_cols': ['PT08.S1(CO)', 'PT08.S3(NOx)', 'PT08.S5(O3)', 'AH'], 'r2': 0.7823306104339073, 'rmse': 22.025726379686983}, {'dropping': ['PT08.S2(NMHC)', 'T', 'AH'], 'remaining_cols': ['PT08.S1(CO)', 'PT08.S3(NOx)', 'PT08.S5(O3)', 'RH'], 'r2': 0.6209822664874693, 'rmse': 29.064397547641878}, {'dropping': ['PT08.S2(NMHC)', 'RH', 'AH'], 'remaining_cols': ['PT08.S1(CO)', 'PT08.S3(NOx)', 'PT08.S5(O3)', 'T'], 'r2': 0.7039258966726396, 'rmse': 25.68808747542041}, {'dropping': ['PT08.S3(NOx)', 'PT08.S5(O3)', 'T'], 'remaining_cols': ['PT08.S1(CO)', 'PT08.S2(NMHC)', 'RH', 'AH'], 'r2': 0.7738742243093977, 'rmse': 22.449495978381446}, {'dropping': ['PT08.S3(NOx)', 'PT08.S5(O3)', 'RH'], 'remaining_cols': ['PT08.S1(CO)', 'PT08.S2(NMHC)', 'T', 'AH'], 'r2': 0.7728041944793023, 'rmse': 22.502548930157946}, {'dropping': ['PT08.S3(NOx)', 'PT08.S5(O3)', 'AH'], 'remaining_cols': ['PT08.S1(CO)', 'PT08.S2(NMHC)', 'T', 'RH'], 'r2': 0.7586521484089472, 'rmse': 23.192805116063404}, {'dropping': ['PT08.S3(NOx)', 'T', 'RH'], 'remaining_cols': ['PT08.S1(CO)', 'PT08.S2(NMHC)', 'PT08.S5(O3)', 'AH'], 'r2': 0.7690863805995745, 'rmse': 22.685916770011822}, {'dropping': ['PT08.S3(NOx)', 'T', 'AH'], 'remaining_cols': ['PT08.S1(CO)', 'PT08.S2(NMHC)', 'PT08.S5(O3)', 'RH'], 'r2': 0.615822157862127, 'rmse': 29.261576232672116}, {'dropping': ['PT08.S3(NOx)', 'RH', 'AH'], 'remaining_cols': ['PT08.S1(CO)', 'PT08.S2(NMHC)', 'PT08.S5(O3)', 'T'], 'r2': 0.7168020482249751, 'rmse': 25.12329593833171}, {'dropping': ['PT08.S5(O3)', 'T', 'RH'], 'remaining_cols': ['PT08.S1(CO)', 'PT08.S2(NMHC)', 'PT08.S3(NOx)', 'AH'], 'r2': 0.801797288437664, 'rmse': 21.017756486372424}, {'dropping': ['PT08.S5(O3)', 'T', 'AH'], 'remaining_cols': ['PT08.S1(CO)', 'PT08.S2(NMHC)', 'PT08.S3(NOx)', 'RH'], 'r2': 0.5832531203811335, 'rmse': 30.47668585580144}, {'dropping': ['PT08.S5(O3)', 'RH', 'AH'], 'remaining_cols': ['PT08.S1(CO)', 'PT08.S2(NMHC)', 'PT08.S3(NOx)', 'T'], 'r2': 0.7335063497864822, 'rmse': 24.37109220933723}, {'dropping': ['T', 'RH', 'AH'], 'remaining_cols': ['PT08.S1(CO)', 'PT08.S2(NMHC)', 'PT08.S3(NOx)', 'PT08.S5(O3)'], 'r2': 0.6043466156967154, 'rmse': 29.69538789289572}]\n",
            ">>> Saved\n"
          ]
        },
        {
          "output_type": "stream",
          "name": "stderr",
          "text": [
            "\n"
          ]
        }
      ]
    },
    {
      "cell_type": "markdown",
      "source": [
        "There is no evidence of improvement from one or more feature deletions in the SVMs.\n",
        "Improvement instead in the Random Forest with the elimination of one of the features: \"T\", \"CO\" and \"RH\", and a combination of two of them (above the three no)"
      ],
      "metadata": {
        "id": "l2rZZwbI5KVW"
      }
    },
    {
      "cell_type": "markdown",
      "source": [
        "### Feature selection on Neural Network"
      ],
      "metadata": {
        "id": "XLXrpiT0BGbN"
      }
    },
    {
      "cell_type": "code",
      "source": [
        "import warnings\n",
        "from sklearn.model_selection import train_test_split\n",
        "from tensorflow.keras.regularizers import L1\n",
        "import tensorflow as tf\n",
        "from tensorflow import keras\n",
        "from tensorflow.keras import layers\n",
        "from sklearn.metrics import mean_squared_error, r2_score\n",
        "seed = 42"
      ],
      "metadata": {
        "id": "uu8CqZjbB77j"
      },
      "execution_count": null,
      "outputs": []
    },
    {
      "cell_type": "code",
      "source": [
        "# Load the CSV file\n",
        "data = pd.read_csv(\"data_dausare.csv\")\n",
        "data = data.set_index('Datetime')\n",
        "# Remove any missing values\n",
        "data = data.dropna(subset = [\"NO2(GT)\"])\n",
        "data = data.dropna(subset = [\"T\"])\n",
        "\n",
        "from sklearn.preprocessing import MinMaxScaler\n",
        "\n",
        "target = pd.DataFrame(data['NO2(GT)'])\n",
        "X = data.drop(['NO2(GT)'], axis=1)\n",
        "print('NO2 data_normset shape',X.shape)\n",
        "print('Target shape', target.shape)\n",
        "X.describe()\n",
        "\n",
        "scaler_x = MinMaxScaler()\n",
        "x_scaled = scaler_x.fit_transform(X)\n",
        "x_scaled = pd.DataFrame(x_scaled, columns=X.columns)\n",
        "\n",
        "scaler_y = MinMaxScaler()\n",
        "y_scaled = scaler_y.fit_transform(target) \n",
        "y_scaled = pd.DataFrame(y_scaled, columns=target.columns)\n",
        "\n",
        "x_train, x_test, y_train, y_test = train_test_split(X, target, test_size=0.2, random_state=seed, shuffle=True)\n",
        "x_train, x_val, y_train, y_val = train_test_split(x_train, y_train, test_size=0.15, random_state=seed, shuffle=True)\n",
        "\n",
        "K = 1\n",
        "all_cols = [c for c in list(x_train.columns.values)]\n",
        "assert 1 <= K and K <= len(all_cols)\n",
        "print(f'>>> {K=}')\n",
        "\n",
        "cols = [list(x) for x in itertools.combinations(all_cols, K)]\n",
        "\n",
        "scaler = StandardScaler()\n",
        "res = []\n",
        "for c in tqdm(cols):\n",
        "    _x_train = x_train.drop(columns=c) \n",
        "    _x_val = x_val.drop(columns=c)\n",
        "    _x_train = x_train.drop(columns=c)\n",
        "    _x_test = x_test.drop(columns=c)\n",
        "    input_shape = _x_train.shape[1:]\n",
        "\n",
        "\n",
        "    def build_model():\n",
        "        model=keras.Sequential([\n",
        "            layers.Dense(128, activation='relu', input_shape=input_shape),\n",
        "            layers.Dense(64, activation='relu'),\n",
        "            layers.Dense(32, activation='relu'),\n",
        "            layers.Dense(1)\n",
        "        ])\n",
        "\n",
        "        # No activation is used in the last layer as this is regression\n",
        "        optimizer= tf.keras.optimizers.Adam(0.001)\n",
        "        \n",
        "        model.compile(loss='mse',\n",
        "                    optimizer= optimizer,\n",
        "                    metrics= ['mae', 'mse'])\n",
        "        return model\n",
        "\n",
        "    model = build_model()\n",
        "    early_stopping_cb = keras.callbacks.EarlyStopping(monitor='val_loss', patience=20, verbose=1, mode='min', restore_best_weights=False)\n",
        "    model.fit(\n",
        "    _x_train, y_train,\n",
        "    epochs=200,\n",
        "    validation_data=(_x_val, y_val),\n",
        "    verbose=0, \n",
        "    callbacks= [early_stopping_cb])\n",
        "\n",
        "    y_pred = model.predict(_x_test)\n",
        "    r2 = r2_score(y_test,y_pred)\n",
        "    \n",
        "    rmse = mean_squared_error(y_test,y_pred)\n",
        "    res.append({\n",
        "        'dropping': c,\n",
        "        'remaining_cols': list(_x_train.columns.values),\n",
        "        'r2': r2,\n",
        "        'rmse': rmse,\n",
        "    })\n",
        "\n",
        "\n",
        "print(res)\n",
        "pd.DataFrame(res).to_csv(f'NN_{K}_select.csv')\n",
        "print('>>> Saved')"
      ],
      "metadata": {
        "id": "a7ao9kd0BMcm",
        "colab": {
          "base_uri": "https://localhost:8080/"
        },
        "outputId": "7decbef0-834c-4c5f-afc2-91eafa45fb10"
      },
      "execution_count": null,
      "outputs": [
        {
          "output_type": "stream",
          "name": "stdout",
          "text": [
            "NO2 data_normset shape (7393, 7)\n",
            "Target shape (7393, 1)\n",
            ">>> K=1\n"
          ]
        },
        {
          "output_type": "stream",
          "name": "stderr",
          "text": [
            "\r  0%|          | 0/7 [00:00<?, ?it/s]"
          ]
        },
        {
          "output_type": "stream",
          "name": "stdout",
          "text": [
            "Epoch 123: early stopping\n",
            "47/47 [==============================] - 0s 2ms/step\n"
          ]
        },
        {
          "output_type": "stream",
          "name": "stderr",
          "text": [
            "\r 14%|█▍        | 1/7 [00:52<05:12, 52.16s/it]"
          ]
        },
        {
          "output_type": "stream",
          "name": "stdout",
          "text": [
            "Epoch 96: early stopping\n",
            "47/47 [==============================] - 0s 2ms/step\n"
          ]
        },
        {
          "output_type": "stream",
          "name": "stderr",
          "text": [
            "\r 29%|██▊       | 2/7 [01:30<03:39, 43.87s/it]"
          ]
        },
        {
          "output_type": "stream",
          "name": "stdout",
          "text": [
            "47/47 [==============================] - 0s 2ms/step\n"
          ]
        },
        {
          "output_type": "stream",
          "name": "stderr",
          "text": [
            "\r 43%|████▎     | 3/7 [02:53<04:08, 62.06s/it]"
          ]
        },
        {
          "output_type": "stream",
          "name": "stdout",
          "text": [
            "Epoch 115: early stopping\n",
            "47/47 [==============================] - 0s 2ms/step\n"
          ]
        },
        {
          "output_type": "stream",
          "name": "stderr",
          "text": [
            "\r 57%|█████▋    | 4/7 [03:42<02:50, 56.80s/it]"
          ]
        },
        {
          "output_type": "stream",
          "name": "stdout",
          "text": [
            "Epoch 139: early stopping\n",
            "47/47 [==============================] - 0s 2ms/step\n"
          ]
        },
        {
          "output_type": "stream",
          "name": "stderr",
          "text": [
            "\r 71%|███████▏  | 5/7 [05:05<02:12, 66.35s/it]"
          ]
        },
        {
          "output_type": "stream",
          "name": "stdout",
          "text": [
            "Epoch 67: early stopping\n",
            "47/47 [==============================] - 0s 2ms/step\n"
          ]
        },
        {
          "output_type": "stream",
          "name": "stderr",
          "text": [
            "\r 86%|████████▌ | 6/7 [05:34<00:53, 53.53s/it]"
          ]
        },
        {
          "output_type": "stream",
          "name": "stdout",
          "text": [
            "Epoch 150: early stopping\n",
            "47/47 [==============================] - 0s 2ms/step\n"
          ]
        },
        {
          "output_type": "stream",
          "name": "stderr",
          "text": [
            "100%|██████████| 7/7 [06:57<00:00, 59.69s/it]"
          ]
        },
        {
          "output_type": "stream",
          "name": "stdout",
          "text": [
            "[{'dropping': ['PT08.S1(CO)'], 'remaining_cols': ['PT08.S2(NMHC)', 'PT08.S3(NOx)', 'PT08.S5(O3)', 'T', 'RH', 'AH'], 'r2': 0.7420413710585805, 'rmse': 566.4479218418949}, {'dropping': ['PT08.S2(NMHC)'], 'remaining_cols': ['PT08.S1(CO)', 'PT08.S3(NOx)', 'PT08.S5(O3)', 'T', 'RH', 'AH'], 'r2': 0.7399680543907097, 'rmse': 571.0006903329318}, {'dropping': ['PT08.S3(NOx)'], 'remaining_cols': ['PT08.S1(CO)', 'PT08.S2(NMHC)', 'PT08.S5(O3)', 'T', 'RH', 'AH'], 'r2': 0.7573226098579211, 'rmse': 532.8920528384897}, {'dropping': ['PT08.S5(O3)'], 'remaining_cols': ['PT08.S1(CO)', 'PT08.S2(NMHC)', 'PT08.S3(NOx)', 'T', 'RH', 'AH'], 'r2': 0.7169808350425448, 'rmse': 621.4780195160108}, {'dropping': ['T'], 'remaining_cols': ['PT08.S1(CO)', 'PT08.S2(NMHC)', 'PT08.S3(NOx)', 'PT08.S5(O3)', 'RH', 'AH'], 'r2': 0.6222940822990308, 'rmse': 829.3994003111499}, {'dropping': ['RH'], 'remaining_cols': ['PT08.S1(CO)', 'PT08.S2(NMHC)', 'PT08.S3(NOx)', 'PT08.S5(O3)', 'T', 'AH'], 'r2': 0.6397623506295174, 'rmse': 791.0410622528879}, {'dropping': ['AH'], 'remaining_cols': ['PT08.S1(CO)', 'PT08.S2(NMHC)', 'PT08.S3(NOx)', 'PT08.S5(O3)', 'T', 'RH'], 'r2': 0.775343713908887, 'rmse': 493.31975017563}]\n",
            ">>> Saved\n"
          ]
        },
        {
          "output_type": "stream",
          "name": "stderr",
          "text": [
            "\n"
          ]
        }
      ]
    },
    {
      "cell_type": "markdown",
      "source": [
        "worsening in any case"
      ],
      "metadata": {
        "id": "lXG4TVoBOT5V"
      }
    }
  ]
}