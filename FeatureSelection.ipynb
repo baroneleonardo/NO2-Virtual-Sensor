{
  "nbformat": 4,
  "nbformat_minor": 0,
  "metadata": {
    "colab": {
      "provenance": [],
      "authorship_tag": "ABX9TyOQJuhteByhjPmgTEUeeXoW",
      "include_colab_link": true
    },
    "kernelspec": {
      "name": "python3",
      "display_name": "Python 3"
    },
    "language_info": {
      "name": "python"
    }
  },
  "cells": [
    {
      "cell_type": "markdown",
      "metadata": {
        "id": "view-in-github",
        "colab_type": "text"
      },
      "source": [
        "<a href=\"https://colab.research.google.com/github/baroneleonardo/NO2-Virtual-Sensor/blob/main/FeatureSelection.ipynb\" target=\"_parent\"><img src=\"https://colab.research.google.com/assets/colab-badge.svg\" alt=\"Open In Colab\"/></a>"
      ]
    },
    {
      "cell_type": "markdown",
      "source": [
        "## SVM"
      ],
      "metadata": {
        "id": "HL2cFSOpzmCb"
      }
    },
    {
      "cell_type": "code",
      "source": [
        "from sklearn.svm import SVR\n",
        "import numpy as np\n",
        "import pandas as pd\n",
        "from sklearn.preprocessing import StandardScaler\n",
        "from sklearn.model_selection import train_test_split\n",
        "from sklearn import metrics\n",
        "from sklearn.preprocessing import StandardScaler\n",
        "import itertools\n",
        "from tqdm import tqdm\n",
        "import os\n",
        "os.environ.setdefault('OMP_NUM_THREADS', '4')"
      ],
      "metadata": {
        "colab": {
          "base_uri": "https://localhost:8080/",
          "height": 36
        },
        "id": "yMxdxZzRG8-w",
        "outputId": "c1e14026-7f1a-442d-ea8b-ba3b7a7504e3"
      },
      "execution_count": 3,
      "outputs": [
        {
          "output_type": "execute_result",
          "data": {
            "text/plain": [
              "'4'"
            ],
            "application/vnd.google.colaboratory.intrinsic+json": {
              "type": "string"
            }
          },
          "metadata": {},
          "execution_count": 3
        }
      ]
    },
    {
      "cell_type": "code",
      "execution_count": null,
      "metadata": {
        "colab": {
          "base_uri": "https://localhost:8080/"
        },
        "id": "b5bPcDzFy0FR",
        "outputId": "ec7ce272-7fa3-4cb0-cabe-ebec7789164a"
      },
      "outputs": [
        {
          "output_type": "stream",
          "name": "stdout",
          "text": [
            ">>> K=3\n"
          ]
        },
        {
          "output_type": "stream",
          "name": "stderr",
          "text": [
            "\r  0%|          | 0/35 [00:00<?, ?it/s]/usr/local/lib/python3.10/dist-packages/sklearn/utils/validation.py:1143: DataConversionWarning: A column-vector y was passed when a 1d array was expected. Please change the shape of y to (n_samples, ), for example using ravel().\n",
            "  y = column_or_1d(y, warn=True)\n",
            "  3%|▎         | 1/35 [00:02<01:27,  2.58s/it]/usr/local/lib/python3.10/dist-packages/sklearn/utils/validation.py:1143: DataConversionWarning: A column-vector y was passed when a 1d array was expected. Please change the shape of y to (n_samples, ), for example using ravel().\n",
            "  y = column_or_1d(y, warn=True)\n",
            "  6%|▌         | 2/35 [00:05<01:23,  2.52s/it]/usr/local/lib/python3.10/dist-packages/sklearn/utils/validation.py:1143: DataConversionWarning: A column-vector y was passed when a 1d array was expected. Please change the shape of y to (n_samples, ), for example using ravel().\n",
            "  y = column_or_1d(y, warn=True)\n",
            "  9%|▊         | 3/35 [00:09<01:44,  3.28s/it]/usr/local/lib/python3.10/dist-packages/sklearn/utils/validation.py:1143: DataConversionWarning: A column-vector y was passed when a 1d array was expected. Please change the shape of y to (n_samples, ), for example using ravel().\n",
            "  y = column_or_1d(y, warn=True)\n",
            " 11%|█▏        | 4/35 [00:11<01:34,  3.05s/it]/usr/local/lib/python3.10/dist-packages/sklearn/utils/validation.py:1143: DataConversionWarning: A column-vector y was passed when a 1d array was expected. Please change the shape of y to (n_samples, ), for example using ravel().\n",
            "  y = column_or_1d(y, warn=True)\n",
            " 14%|█▍        | 5/35 [00:15<01:39,  3.32s/it]/usr/local/lib/python3.10/dist-packages/sklearn/utils/validation.py:1143: DataConversionWarning: A column-vector y was passed when a 1d array was expected. Please change the shape of y to (n_samples, ), for example using ravel().\n",
            "  y = column_or_1d(y, warn=True)\n",
            " 17%|█▋        | 6/35 [00:19<01:44,  3.60s/it]/usr/local/lib/python3.10/dist-packages/sklearn/utils/validation.py:1143: DataConversionWarning: A column-vector y was passed when a 1d array was expected. Please change the shape of y to (n_samples, ), for example using ravel().\n",
            "  y = column_or_1d(y, warn=True)\n",
            " 20%|██        | 7/35 [00:24<01:49,  3.92s/it]/usr/local/lib/python3.10/dist-packages/sklearn/utils/validation.py:1143: DataConversionWarning: A column-vector y was passed when a 1d array was expected. Please change the shape of y to (n_samples, ), for example using ravel().\n",
            "  y = column_or_1d(y, warn=True)\n",
            " 23%|██▎       | 8/35 [00:26<01:33,  3.46s/it]/usr/local/lib/python3.10/dist-packages/sklearn/utils/validation.py:1143: DataConversionWarning: A column-vector y was passed when a 1d array was expected. Please change the shape of y to (n_samples, ), for example using ravel().\n",
            "  y = column_or_1d(y, warn=True)\n",
            " 26%|██▌       | 9/35 [00:29<01:23,  3.20s/it]/usr/local/lib/python3.10/dist-packages/sklearn/utils/validation.py:1143: DataConversionWarning: A column-vector y was passed when a 1d array was expected. Please change the shape of y to (n_samples, ), for example using ravel().\n",
            "  y = column_or_1d(y, warn=True)\n",
            " 29%|██▊       | 10/35 [00:38<02:00,  4.84s/it]/usr/local/lib/python3.10/dist-packages/sklearn/utils/validation.py:1143: DataConversionWarning: A column-vector y was passed when a 1d array was expected. Please change the shape of y to (n_samples, ), for example using ravel().\n",
            "  y = column_or_1d(y, warn=True)\n",
            " 31%|███▏      | 11/35 [00:45<02:16,  5.70s/it]/usr/local/lib/python3.10/dist-packages/sklearn/utils/validation.py:1143: DataConversionWarning: A column-vector y was passed when a 1d array was expected. Please change the shape of y to (n_samples, ), for example using ravel().\n",
            "  y = column_or_1d(y, warn=True)\n",
            " 34%|███▍      | 12/35 [00:50<02:05,  5.46s/it]/usr/local/lib/python3.10/dist-packages/sklearn/utils/validation.py:1143: DataConversionWarning: A column-vector y was passed when a 1d array was expected. Please change the shape of y to (n_samples, ), for example using ravel().\n",
            "  y = column_or_1d(y, warn=True)\n",
            " 37%|███▋      | 13/35 [00:53<01:40,  4.55s/it]/usr/local/lib/python3.10/dist-packages/sklearn/utils/validation.py:1143: DataConversionWarning: A column-vector y was passed when a 1d array was expected. Please change the shape of y to (n_samples, ), for example using ravel().\n",
            "  y = column_or_1d(y, warn=True)\n",
            " 40%|████      | 14/35 [00:55<01:22,  3.92s/it]/usr/local/lib/python3.10/dist-packages/sklearn/utils/validation.py:1143: DataConversionWarning: A column-vector y was passed when a 1d array was expected. Please change the shape of y to (n_samples, ), for example using ravel().\n",
            "  y = column_or_1d(y, warn=True)\n",
            " 43%|████▎     | 15/35 [00:58<01:09,  3.48s/it]/usr/local/lib/python3.10/dist-packages/sklearn/utils/validation.py:1143: DataConversionWarning: A column-vector y was passed when a 1d array was expected. Please change the shape of y to (n_samples, ), for example using ravel().\n",
            "  y = column_or_1d(y, warn=True)\n",
            " 46%|████▌     | 16/35 [01:01<01:07,  3.53s/it]/usr/local/lib/python3.10/dist-packages/sklearn/utils/validation.py:1143: DataConversionWarning: A column-vector y was passed when a 1d array was expected. Please change the shape of y to (n_samples, ), for example using ravel().\n",
            "  y = column_or_1d(y, warn=True)\n",
            " 49%|████▊     | 17/35 [01:04<00:59,  3.30s/it]/usr/local/lib/python3.10/dist-packages/sklearn/utils/validation.py:1143: DataConversionWarning: A column-vector y was passed when a 1d array was expected. Please change the shape of y to (n_samples, ), for example using ravel().\n",
            "  y = column_or_1d(y, warn=True)\n",
            " 51%|█████▏    | 18/35 [01:06<00:52,  3.06s/it]/usr/local/lib/python3.10/dist-packages/sklearn/utils/validation.py:1143: DataConversionWarning: A column-vector y was passed when a 1d array was expected. Please change the shape of y to (n_samples, ), for example using ravel().\n",
            "  y = column_or_1d(y, warn=True)\n",
            " 54%|█████▍    | 19/35 [01:09<00:47,  2.95s/it]/usr/local/lib/python3.10/dist-packages/sklearn/utils/validation.py:1143: DataConversionWarning: A column-vector y was passed when a 1d array was expected. Please change the shape of y to (n_samples, ), for example using ravel().\n",
            "  y = column_or_1d(y, warn=True)\n",
            " 57%|█████▋    | 20/35 [01:15<00:55,  3.71s/it]/usr/local/lib/python3.10/dist-packages/sklearn/utils/validation.py:1143: DataConversionWarning: A column-vector y was passed when a 1d array was expected. Please change the shape of y to (n_samples, ), for example using ravel().\n",
            "  y = column_or_1d(y, warn=True)\n",
            " 60%|██████    | 21/35 [01:18<00:52,  3.73s/it]/usr/local/lib/python3.10/dist-packages/sklearn/utils/validation.py:1143: DataConversionWarning: A column-vector y was passed when a 1d array was expected. Please change the shape of y to (n_samples, ), for example using ravel().\n",
            "  y = column_or_1d(y, warn=True)\n",
            " 63%|██████▎   | 22/35 [01:21<00:43,  3.35s/it]/usr/local/lib/python3.10/dist-packages/sklearn/utils/validation.py:1143: DataConversionWarning: A column-vector y was passed when a 1d array was expected. Please change the shape of y to (n_samples, ), for example using ravel().\n",
            "  y = column_or_1d(y, warn=True)\n",
            " 66%|██████▌   | 23/35 [01:24<00:39,  3.27s/it]/usr/local/lib/python3.10/dist-packages/sklearn/utils/validation.py:1143: DataConversionWarning: A column-vector y was passed when a 1d array was expected. Please change the shape of y to (n_samples, ), for example using ravel().\n",
            "  y = column_or_1d(y, warn=True)\n",
            " 69%|██████▊   | 24/35 [01:28<00:37,  3.45s/it]/usr/local/lib/python3.10/dist-packages/sklearn/utils/validation.py:1143: DataConversionWarning: A column-vector y was passed when a 1d array was expected. Please change the shape of y to (n_samples, ), for example using ravel().\n",
            "  y = column_or_1d(y, warn=True)\n",
            " 71%|███████▏  | 25/35 [01:31<00:33,  3.30s/it]/usr/local/lib/python3.10/dist-packages/sklearn/utils/validation.py:1143: DataConversionWarning: A column-vector y was passed when a 1d array was expected. Please change the shape of y to (n_samples, ), for example using ravel().\n",
            "  y = column_or_1d(y, warn=True)\n",
            " 74%|███████▍  | 26/35 [01:35<00:33,  3.68s/it]/usr/local/lib/python3.10/dist-packages/sklearn/utils/validation.py:1143: DataConversionWarning: A column-vector y was passed when a 1d array was expected. Please change the shape of y to (n_samples, ), for example using ravel().\n",
            "  y = column_or_1d(y, warn=True)\n",
            " 77%|███████▋  | 27/35 [01:39<00:30,  3.81s/it]/usr/local/lib/python3.10/dist-packages/sklearn/utils/validation.py:1143: DataConversionWarning: A column-vector y was passed when a 1d array was expected. Please change the shape of y to (n_samples, ), for example using ravel().\n",
            "  y = column_or_1d(y, warn=True)\n",
            " 80%|████████  | 28/35 [01:44<00:29,  4.19s/it]/usr/local/lib/python3.10/dist-packages/sklearn/utils/validation.py:1143: DataConversionWarning: A column-vector y was passed when a 1d array was expected. Please change the shape of y to (n_samples, ), for example using ravel().\n",
            "  y = column_or_1d(y, warn=True)\n",
            " 83%|████████▎ | 29/35 [01:47<00:22,  3.67s/it]/usr/local/lib/python3.10/dist-packages/sklearn/utils/validation.py:1143: DataConversionWarning: A column-vector y was passed when a 1d array was expected. Please change the shape of y to (n_samples, ), for example using ravel().\n",
            "  y = column_or_1d(y, warn=True)\n",
            " 86%|████████▌ | 30/35 [01:49<00:16,  3.31s/it]/usr/local/lib/python3.10/dist-packages/sklearn/utils/validation.py:1143: DataConversionWarning: A column-vector y was passed when a 1d array was expected. Please change the shape of y to (n_samples, ), for example using ravel().\n",
            "  y = column_or_1d(y, warn=True)\n",
            " 89%|████████▊ | 31/35 [01:53<00:13,  3.28s/it]/usr/local/lib/python3.10/dist-packages/sklearn/utils/validation.py:1143: DataConversionWarning: A column-vector y was passed when a 1d array was expected. Please change the shape of y to (n_samples, ), for example using ravel().\n",
            "  y = column_or_1d(y, warn=True)\n",
            " 91%|█████████▏| 32/35 [01:56<00:09,  3.25s/it]/usr/local/lib/python3.10/dist-packages/sklearn/utils/validation.py:1143: DataConversionWarning: A column-vector y was passed when a 1d array was expected. Please change the shape of y to (n_samples, ), for example using ravel().\n",
            "  y = column_or_1d(y, warn=True)\n",
            " 94%|█████████▍| 33/35 [01:58<00:06,  3.03s/it]/usr/local/lib/python3.10/dist-packages/sklearn/utils/validation.py:1143: DataConversionWarning: A column-vector y was passed when a 1d array was expected. Please change the shape of y to (n_samples, ), for example using ravel().\n",
            "  y = column_or_1d(y, warn=True)\n",
            " 97%|█████████▋| 34/35 [02:01<00:02,  2.87s/it]/usr/local/lib/python3.10/dist-packages/sklearn/utils/validation.py:1143: DataConversionWarning: A column-vector y was passed when a 1d array was expected. Please change the shape of y to (n_samples, ), for example using ravel().\n",
            "  y = column_or_1d(y, warn=True)\n",
            "100%|██████████| 35/35 [02:03<00:00,  3.54s/it]"
          ]
        },
        {
          "output_type": "stream",
          "name": "stdout",
          "text": [
            "[{'dropping': ['PT08.S1(CO)', 'PT08.S2(NMHC)', 'PT08.S3(NOx)'], 'remaining_cols': ['PT08.S5(O3)', 'T', 'RH', 'AH'], 'r2': 0.7215105235137694, 'rmse': 24.913569432727712}, {'dropping': ['PT08.S1(CO)', 'PT08.S2(NMHC)', 'PT08.S5(O3)'], 'remaining_cols': ['PT08.S3(NOx)', 'T', 'RH', 'AH'], 'r2': 0.7648935063933732, 'rmse': 22.890952929945843}, {'dropping': ['PT08.S1(CO)', 'PT08.S2(NMHC)', 'T'], 'remaining_cols': ['PT08.S3(NOx)', 'PT08.S5(O3)', 'RH', 'AH'], 'r2': 0.7899801598699011, 'rmse': 21.63524023430575}, {'dropping': ['PT08.S1(CO)', 'PT08.S2(NMHC)', 'RH'], 'remaining_cols': ['PT08.S3(NOx)', 'PT08.S5(O3)', 'T', 'AH'], 'r2': 0.7957062035699022, 'rmse': 21.33826722726017}, {'dropping': ['PT08.S1(CO)', 'PT08.S2(NMHC)', 'AH'], 'remaining_cols': ['PT08.S3(NOx)', 'PT08.S5(O3)', 'T', 'RH'], 'r2': 0.791023618997269, 'rmse': 21.581427223878936}, {'dropping': ['PT08.S1(CO)', 'PT08.S3(NOx)', 'PT08.S5(O3)'], 'remaining_cols': ['PT08.S2(NMHC)', 'T', 'RH', 'AH'], 'r2': 0.7268408403698724, 'rmse': 24.673993392457458}, {'dropping': ['PT08.S1(CO)', 'PT08.S3(NOx)', 'T'], 'remaining_cols': ['PT08.S2(NMHC)', 'PT08.S5(O3)', 'RH', 'AH'], 'r2': 0.7534180474042225, 'rmse': 23.4429468956061}, {'dropping': ['PT08.S1(CO)', 'PT08.S3(NOx)', 'RH'], 'remaining_cols': ['PT08.S2(NMHC)', 'PT08.S5(O3)', 'T', 'AH'], 'r2': 0.7616594908613676, 'rmse': 23.047853857473218}, {'dropping': ['PT08.S1(CO)', 'PT08.S3(NOx)', 'AH'], 'remaining_cols': ['PT08.S2(NMHC)', 'PT08.S5(O3)', 'T', 'RH'], 'r2': 0.7577208344725702, 'rmse': 23.237510269359042}, {'dropping': ['PT08.S1(CO)', 'PT08.S5(O3)', 'T'], 'remaining_cols': ['PT08.S2(NMHC)', 'PT08.S3(NOx)', 'RH', 'AH'], 'r2': 0.7935268164973688, 'rmse': 21.4517826049452}, {'dropping': ['PT08.S1(CO)', 'PT08.S5(O3)', 'RH'], 'remaining_cols': ['PT08.S2(NMHC)', 'PT08.S3(NOx)', 'T', 'AH'], 'r2': 0.7985412135525698, 'rmse': 21.18969311004282}, {'dropping': ['PT08.S1(CO)', 'PT08.S5(O3)', 'AH'], 'remaining_cols': ['PT08.S2(NMHC)', 'PT08.S3(NOx)', 'T', 'RH'], 'r2': 0.7948604007298001, 'rmse': 21.382393200923094}, {'dropping': ['PT08.S1(CO)', 'T', 'RH'], 'remaining_cols': ['PT08.S2(NMHC)', 'PT08.S3(NOx)', 'PT08.S5(O3)', 'AH'], 'r2': 0.7866909069204208, 'rmse': 21.804003583856563}, {'dropping': ['PT08.S1(CO)', 'T', 'AH'], 'remaining_cols': ['PT08.S2(NMHC)', 'PT08.S3(NOx)', 'PT08.S5(O3)', 'RH'], 'r2': 0.6191750458594492, 'rmse': 29.133607125497004}, {'dropping': ['PT08.S1(CO)', 'RH', 'AH'], 'remaining_cols': ['PT08.S2(NMHC)', 'PT08.S3(NOx)', 'PT08.S5(O3)', 'T'], 'r2': 0.7280209568622563, 'rmse': 24.620636762989264}, {'dropping': ['PT08.S2(NMHC)', 'PT08.S3(NOx)', 'PT08.S5(O3)'], 'remaining_cols': ['PT08.S1(CO)', 'T', 'RH', 'AH'], 'r2': 0.7206741260299623, 'rmse': 24.950953295280573}, {'dropping': ['PT08.S2(NMHC)', 'PT08.S3(NOx)', 'T'], 'remaining_cols': ['PT08.S1(CO)', 'PT08.S5(O3)', 'RH', 'AH'], 'r2': 0.7585175329439741, 'rmse': 23.199272285740502}, {'dropping': ['PT08.S2(NMHC)', 'PT08.S3(NOx)', 'RH'], 'remaining_cols': ['PT08.S1(CO)', 'PT08.S5(O3)', 'T', 'AH'], 'r2': 0.7647994873355096, 'rmse': 22.8955295170774}, {'dropping': ['PT08.S2(NMHC)', 'PT08.S3(NOx)', 'AH'], 'remaining_cols': ['PT08.S1(CO)', 'PT08.S5(O3)', 'T', 'RH'], 'r2': 0.7606257940451855, 'rmse': 23.097779732531638}, {'dropping': ['PT08.S2(NMHC)', 'PT08.S5(O3)', 'T'], 'remaining_cols': ['PT08.S1(CO)', 'PT08.S3(NOx)', 'RH', 'AH'], 'r2': 0.7884753067112941, 'rmse': 21.712613271938938}, {'dropping': ['PT08.S2(NMHC)', 'PT08.S5(O3)', 'RH'], 'remaining_cols': ['PT08.S1(CO)', 'PT08.S3(NOx)', 'T', 'AH'], 'r2': 0.7938237743532981, 'rmse': 21.436350655372113}, {'dropping': ['PT08.S2(NMHC)', 'PT08.S5(O3)', 'AH'], 'remaining_cols': ['PT08.S1(CO)', 'PT08.S3(NOx)', 'T', 'RH'], 'r2': 0.7889044548260499, 'rmse': 21.690576464237783}, {'dropping': ['PT08.S2(NMHC)', 'T', 'RH'], 'remaining_cols': ['PT08.S1(CO)', 'PT08.S3(NOx)', 'PT08.S5(O3)', 'AH'], 'r2': 0.766610448927481, 'rmse': 22.807215411458078}, {'dropping': ['PT08.S2(NMHC)', 'T', 'AH'], 'remaining_cols': ['PT08.S1(CO)', 'PT08.S3(NOx)', 'PT08.S5(O3)', 'RH'], 'r2': 0.5993238291112216, 'rmse': 29.883283674709535}, {'dropping': ['PT08.S2(NMHC)', 'RH', 'AH'], 'remaining_cols': ['PT08.S1(CO)', 'PT08.S3(NOx)', 'PT08.S5(O3)', 'T'], 'r2': 0.6942556352272522, 'rmse': 26.104224196209625}, {'dropping': ['PT08.S3(NOx)', 'PT08.S5(O3)', 'T'], 'remaining_cols': ['PT08.S1(CO)', 'PT08.S2(NMHC)', 'RH', 'AH'], 'r2': 0.747542866041237, 'rmse': 23.72058436887426}, {'dropping': ['PT08.S3(NOx)', 'PT08.S5(O3)', 'RH'], 'remaining_cols': ['PT08.S1(CO)', 'PT08.S2(NMHC)', 'T', 'AH'], 'r2': 0.7549726182508457, 'rmse': 23.368932267056866}, {'dropping': ['PT08.S3(NOx)', 'PT08.S5(O3)', 'AH'], 'remaining_cols': ['PT08.S1(CO)', 'PT08.S2(NMHC)', 'T', 'RH'], 'r2': 0.7500815145691317, 'rmse': 23.601018768519143}, {'dropping': ['PT08.S3(NOx)', 'T', 'RH'], 'remaining_cols': ['PT08.S1(CO)', 'PT08.S2(NMHC)', 'PT08.S5(O3)', 'AH'], 'r2': 0.7523204370502201, 'rmse': 23.495064761846027}, {'dropping': ['PT08.S3(NOx)', 'T', 'AH'], 'remaining_cols': ['PT08.S1(CO)', 'PT08.S2(NMHC)', 'PT08.S5(O3)', 'RH'], 'r2': 0.5939875393202534, 'rmse': 30.08162142179384}, {'dropping': ['PT08.S3(NOx)', 'RH', 'AH'], 'remaining_cols': ['PT08.S1(CO)', 'PT08.S2(NMHC)', 'PT08.S5(O3)', 'T'], 'r2': 0.7063129720737615, 'rmse': 25.58432375956898}, {'dropping': ['PT08.S5(O3)', 'T', 'RH'], 'remaining_cols': ['PT08.S1(CO)', 'PT08.S2(NMHC)', 'PT08.S3(NOx)', 'AH'], 'r2': 0.7789569677025341, 'rmse': 22.195757687718604}, {'dropping': ['PT08.S5(O3)', 'T', 'AH'], 'remaining_cols': ['PT08.S1(CO)', 'PT08.S2(NMHC)', 'PT08.S3(NOx)', 'RH'], 'r2': 0.5515269786756546, 'rmse': 31.615475740458717}, {'dropping': ['PT08.S5(O3)', 'RH', 'AH'], 'remaining_cols': ['PT08.S1(CO)', 'PT08.S2(NMHC)', 'PT08.S3(NOx)', 'T'], 'r2': 0.6999199549183703, 'rmse': 25.86128606808647}, {'dropping': ['T', 'RH', 'AH'], 'remaining_cols': ['PT08.S1(CO)', 'PT08.S2(NMHC)', 'PT08.S3(NOx)', 'PT08.S5(O3)'], 'r2': 0.570810833122487, 'rmse': 30.928291920517342}]\n",
            ">>> Saved\n"
          ]
        },
        {
          "output_type": "stream",
          "name": "stderr",
          "text": [
            "\n"
          ]
        }
      ],
      "source": [
        "# Load the CSV file\n",
        "data = pd.read_csv(\"data_dausare.csv\")\n",
        "data = data.set_index('Datetime')\n",
        "\n",
        "# Remove any missing values\n",
        "data = data.dropna(subset = [\"NO2(GT)\"])\n",
        "data = data.dropna(subset = [\"T\"])\n",
        "\n",
        "C, gamma = (2.154435,0.464159)\n",
        "\n",
        "seed = 42\n",
        "\n",
        "target = pd.DataFrame(data['NO2(GT)'])\n",
        "X = data.drop(['NO2(GT)'], axis=1)\n",
        "\n",
        "x_train, x_val, y_train, y_val = train_test_split(X, target, test_size=0.3, random_state=seed, shuffle=True)\n",
        "\n",
        "K = 3\n",
        "all_cols = [c for c in list(x_train.columns.values)]\n",
        "assert 1 <= K and K <= len(all_cols)\n",
        "print(f'>>> {K=}')\n",
        "\n",
        "cols = [list(x) for x in itertools.combinations(all_cols, K)]\n",
        "\n",
        "scaler = StandardScaler()\n",
        "res = []\n",
        "for c in tqdm(cols):\n",
        "    _x_train = x_train.drop(columns=c) \n",
        "    _x_val = x_val.drop(columns=c)\n",
        "\n",
        "    clf = SVR(C=C, gamma=gamma, kernel='rbf')\n",
        "    clf.fit(scaler.fit_transform(_x_train), y_train)\n",
        "    r2 = clf.score(scaler.transform(_x_val), y_val)\n",
        "    y_hat = clf.predict(scaler.transform(_x_val))\n",
        "    rmse = metrics.mean_squared_error(y_val, y_hat, squared=False)\n",
        "    res.append({\n",
        "        'dropping': c,\n",
        "        'remaining_cols': list(_x_train.columns.values),\n",
        "        'r2': r2,\n",
        "        'rmse': rmse,\n",
        "    })\n",
        "\n",
        "\n",
        "print(res)\n",
        "pd.DataFrame(res).to_csv(f'_{K}_select.csv')\n",
        "print('>>> Saved')"
      ]
    },
    {
      "cell_type": "markdown",
      "source": [
        "## Random Forest\n"
      ],
      "metadata": {
        "id": "sFti85xz0KYo"
      }
    },
    {
      "cell_type": "code",
      "source": [
        "from sklearn.ensemble import RandomForestRegressor\n",
        "\n",
        "x_train, x_val, y_train, y_val = train_test_split(X, target, test_size=0.3, random_state=seed, shuffle=True)\n",
        "\n",
        "K = 3\n",
        "all_cols = [c for c in list(x_train.columns.values)]\n",
        "assert 1 <= K and K <= len(all_cols)\n",
        "print(f'>>> {K=}')\n",
        "\n",
        "cols = [list(x) for x in itertools.combinations(all_cols, K)]\n",
        "\n",
        "scaler = StandardScaler()\n",
        "res = []\n",
        "\n",
        "max_depth, n_estimators = (7,200)\n",
        "for c in tqdm(cols):\n",
        "    _x_train = x_train.drop(columns=c) \n",
        "    _x_val = x_val.drop(columns=c)\n",
        "\n",
        "    clf = RandomForestRegressor(max_depth=max_depth, n_estimators=n_estimators)\n",
        "    clf.fit(scaler.fit_transform(_x_train), y_train)\n",
        "    r2 = clf.score(scaler.transform(_x_val), y_val)\n",
        "    y_hat = clf.predict(scaler.transform(_x_val))\n",
        "    rmse = metrics.mean_squared_error(y_val, y_hat, squared=False)\n",
        "    res.append({\n",
        "        'dropping': c,\n",
        "        'remaining_cols': list(_x_train.columns.values),\n",
        "        'r2': r2,\n",
        "        'rmse': rmse,\n",
        "    })\n",
        "\n",
        "\n",
        "print(res)\n",
        "pd.DataFrame(res).to_csv(f'_{K}_selectRF.csv')\n",
        "print('>>> Saved')"
      ],
      "metadata": {
        "colab": {
          "base_uri": "https://localhost:8080/"
        },
        "id": "or782Jd5zsJy",
        "outputId": "78a8ae38-907d-4279-d71a-b1110d237ac6"
      },
      "execution_count": null,
      "outputs": [
        {
          "output_type": "stream",
          "name": "stdout",
          "text": [
            ">>> K=3\n"
          ]
        },
        {
          "output_type": "stream",
          "name": "stderr",
          "text": [
            "\r  0%|          | 0/35 [00:00<?, ?it/s]<ipython-input-8-c8dc8d907cf9>:21: DataConversionWarning: A column-vector y was passed when a 1d array was expected. Please change the shape of y to (n_samples,), for example using ravel().\n",
            "  clf.fit(scaler.fit_transform(_x_train), y_train)\n",
            "  3%|▎         | 1/35 [00:03<01:56,  3.42s/it]<ipython-input-8-c8dc8d907cf9>:21: DataConversionWarning: A column-vector y was passed when a 1d array was expected. Please change the shape of y to (n_samples,), for example using ravel().\n",
            "  clf.fit(scaler.fit_transform(_x_train), y_train)\n",
            "  6%|▌         | 2/35 [00:06<01:53,  3.44s/it]<ipython-input-8-c8dc8d907cf9>:21: DataConversionWarning: A column-vector y was passed when a 1d array was expected. Please change the shape of y to (n_samples,), for example using ravel().\n",
            "  clf.fit(scaler.fit_transform(_x_train), y_train)\n",
            "  9%|▊         | 3/35 [00:09<01:35,  3.00s/it]<ipython-input-8-c8dc8d907cf9>:21: DataConversionWarning: A column-vector y was passed when a 1d array was expected. Please change the shape of y to (n_samples,), for example using ravel().\n",
            "  clf.fit(scaler.fit_transform(_x_train), y_train)\n",
            " 11%|█▏        | 4/35 [00:11<01:26,  2.80s/it]<ipython-input-8-c8dc8d907cf9>:21: DataConversionWarning: A column-vector y was passed when a 1d array was expected. Please change the shape of y to (n_samples,), for example using ravel().\n",
            "  clf.fit(scaler.fit_transform(_x_train), y_train)\n",
            " 14%|█▍        | 5/35 [00:14<01:20,  2.67s/it]<ipython-input-8-c8dc8d907cf9>:21: DataConversionWarning: A column-vector y was passed when a 1d array was expected. Please change the shape of y to (n_samples,), for example using ravel().\n",
            "  clf.fit(scaler.fit_transform(_x_train), y_train)\n",
            " 17%|█▋        | 6/35 [00:16<01:17,  2.66s/it]<ipython-input-8-c8dc8d907cf9>:21: DataConversionWarning: A column-vector y was passed when a 1d array was expected. Please change the shape of y to (n_samples,), for example using ravel().\n",
            "  clf.fit(scaler.fit_transform(_x_train), y_train)\n",
            " 20%|██        | 7/35 [00:20<01:19,  2.84s/it]<ipython-input-8-c8dc8d907cf9>:21: DataConversionWarning: A column-vector y was passed when a 1d array was expected. Please change the shape of y to (n_samples,), for example using ravel().\n",
            "  clf.fit(scaler.fit_transform(_x_train), y_train)\n",
            " 23%|██▎       | 8/35 [00:22<01:13,  2.73s/it]<ipython-input-8-c8dc8d907cf9>:21: DataConversionWarning: A column-vector y was passed when a 1d array was expected. Please change the shape of y to (n_samples,), for example using ravel().\n",
            "  clf.fit(scaler.fit_transform(_x_train), y_train)\n",
            " 26%|██▌       | 9/35 [00:25<01:08,  2.64s/it]<ipython-input-8-c8dc8d907cf9>:21: DataConversionWarning: A column-vector y was passed when a 1d array was expected. Please change the shape of y to (n_samples,), for example using ravel().\n",
            "  clf.fit(scaler.fit_transform(_x_train), y_train)\n",
            " 29%|██▊       | 10/35 [00:27<01:04,  2.59s/it]<ipython-input-8-c8dc8d907cf9>:21: DataConversionWarning: A column-vector y was passed when a 1d array was expected. Please change the shape of y to (n_samples,), for example using ravel().\n",
            "  clf.fit(scaler.fit_transform(_x_train), y_train)\n",
            " 31%|███▏      | 11/35 [00:31<01:11,  3.00s/it]<ipython-input-8-c8dc8d907cf9>:21: DataConversionWarning: A column-vector y was passed when a 1d array was expected. Please change the shape of y to (n_samples,), for example using ravel().\n",
            "  clf.fit(scaler.fit_transform(_x_train), y_train)\n",
            " 34%|███▍      | 12/35 [00:34<01:07,  2.94s/it]<ipython-input-8-c8dc8d907cf9>:21: DataConversionWarning: A column-vector y was passed when a 1d array was expected. Please change the shape of y to (n_samples,), for example using ravel().\n",
            "  clf.fit(scaler.fit_transform(_x_train), y_train)\n",
            " 37%|███▋      | 13/35 [00:36<01:01,  2.80s/it]<ipython-input-8-c8dc8d907cf9>:21: DataConversionWarning: A column-vector y was passed when a 1d array was expected. Please change the shape of y to (n_samples,), for example using ravel().\n",
            "  clf.fit(scaler.fit_transform(_x_train), y_train)\n",
            " 40%|████      | 14/35 [00:39<00:56,  2.70s/it]<ipython-input-8-c8dc8d907cf9>:21: DataConversionWarning: A column-vector y was passed when a 1d array was expected. Please change the shape of y to (n_samples,), for example using ravel().\n",
            "  clf.fit(scaler.fit_transform(_x_train), y_train)\n",
            " 43%|████▎     | 15/35 [00:41<00:52,  2.62s/it]<ipython-input-8-c8dc8d907cf9>:21: DataConversionWarning: A column-vector y was passed when a 1d array was expected. Please change the shape of y to (n_samples,), for example using ravel().\n",
            "  clf.fit(scaler.fit_transform(_x_train), y_train)\n",
            " 46%|████▌     | 16/35 [00:44<00:53,  2.81s/it]<ipython-input-8-c8dc8d907cf9>:21: DataConversionWarning: A column-vector y was passed when a 1d array was expected. Please change the shape of y to (n_samples,), for example using ravel().\n",
            "  clf.fit(scaler.fit_transform(_x_train), y_train)\n",
            " 49%|████▊     | 17/35 [00:47<00:49,  2.73s/it]<ipython-input-8-c8dc8d907cf9>:21: DataConversionWarning: A column-vector y was passed when a 1d array was expected. Please change the shape of y to (n_samples,), for example using ravel().\n",
            "  clf.fit(scaler.fit_transform(_x_train), y_train)\n",
            " 51%|█████▏    | 18/35 [00:49<00:45,  2.66s/it]<ipython-input-8-c8dc8d907cf9>:21: DataConversionWarning: A column-vector y was passed when a 1d array was expected. Please change the shape of y to (n_samples,), for example using ravel().\n",
            "  clf.fit(scaler.fit_transform(_x_train), y_train)\n",
            " 54%|█████▍    | 19/35 [00:52<00:41,  2.61s/it]<ipython-input-8-c8dc8d907cf9>:21: DataConversionWarning: A column-vector y was passed when a 1d array was expected. Please change the shape of y to (n_samples,), for example using ravel().\n",
            "  clf.fit(scaler.fit_transform(_x_train), y_train)\n",
            " 57%|█████▋    | 20/35 [00:54<00:38,  2.58s/it]<ipython-input-8-c8dc8d907cf9>:21: DataConversionWarning: A column-vector y was passed when a 1d array was expected. Please change the shape of y to (n_samples,), for example using ravel().\n",
            "  clf.fit(scaler.fit_transform(_x_train), y_train)\n",
            " 60%|██████    | 21/35 [00:58<00:39,  2.80s/it]<ipython-input-8-c8dc8d907cf9>:21: DataConversionWarning: A column-vector y was passed when a 1d array was expected. Please change the shape of y to (n_samples,), for example using ravel().\n",
            "  clf.fit(scaler.fit_transform(_x_train), y_train)\n",
            " 63%|██████▎   | 22/35 [01:00<00:35,  2.70s/it]<ipython-input-8-c8dc8d907cf9>:21: DataConversionWarning: A column-vector y was passed when a 1d array was expected. Please change the shape of y to (n_samples,), for example using ravel().\n",
            "  clf.fit(scaler.fit_transform(_x_train), y_train)\n",
            " 66%|██████▌   | 23/35 [01:03<00:31,  2.63s/it]<ipython-input-8-c8dc8d907cf9>:21: DataConversionWarning: A column-vector y was passed when a 1d array was expected. Please change the shape of y to (n_samples,), for example using ravel().\n",
            "  clf.fit(scaler.fit_transform(_x_train), y_train)\n",
            " 69%|██████▊   | 24/35 [01:05<00:28,  2.59s/it]<ipython-input-8-c8dc8d907cf9>:21: DataConversionWarning: A column-vector y was passed when a 1d array was expected. Please change the shape of y to (n_samples,), for example using ravel().\n",
            "  clf.fit(scaler.fit_transform(_x_train), y_train)\n",
            " 71%|███████▏  | 25/35 [01:08<00:25,  2.58s/it]<ipython-input-8-c8dc8d907cf9>:21: DataConversionWarning: A column-vector y was passed when a 1d array was expected. Please change the shape of y to (n_samples,), for example using ravel().\n",
            "  clf.fit(scaler.fit_transform(_x_train), y_train)\n",
            " 74%|███████▍  | 26/35 [01:11<00:24,  2.78s/it]<ipython-input-8-c8dc8d907cf9>:21: DataConversionWarning: A column-vector y was passed when a 1d array was expected. Please change the shape of y to (n_samples,), for example using ravel().\n",
            "  clf.fit(scaler.fit_transform(_x_train), y_train)\n",
            " 77%|███████▋  | 27/35 [01:13<00:21,  2.68s/it]<ipython-input-8-c8dc8d907cf9>:21: DataConversionWarning: A column-vector y was passed when a 1d array was expected. Please change the shape of y to (n_samples,), for example using ravel().\n",
            "  clf.fit(scaler.fit_transform(_x_train), y_train)\n",
            " 80%|████████  | 28/35 [01:16<00:18,  2.61s/it]<ipython-input-8-c8dc8d907cf9>:21: DataConversionWarning: A column-vector y was passed when a 1d array was expected. Please change the shape of y to (n_samples,), for example using ravel().\n",
            "  clf.fit(scaler.fit_transform(_x_train), y_train)\n",
            " 83%|████████▎ | 29/35 [01:18<00:15,  2.57s/it]<ipython-input-8-c8dc8d907cf9>:21: DataConversionWarning: A column-vector y was passed when a 1d array was expected. Please change the shape of y to (n_samples,), for example using ravel().\n",
            "  clf.fit(scaler.fit_transform(_x_train), y_train)\n",
            " 86%|████████▌ | 30/35 [01:21<00:13,  2.61s/it]<ipython-input-8-c8dc8d907cf9>:21: DataConversionWarning: A column-vector y was passed when a 1d array was expected. Please change the shape of y to (n_samples,), for example using ravel().\n",
            "  clf.fit(scaler.fit_transform(_x_train), y_train)\n",
            " 89%|████████▊ | 31/35 [01:24<00:10,  2.73s/it]<ipython-input-8-c8dc8d907cf9>:21: DataConversionWarning: A column-vector y was passed when a 1d array was expected. Please change the shape of y to (n_samples,), for example using ravel().\n",
            "  clf.fit(scaler.fit_transform(_x_train), y_train)\n",
            " 91%|█████████▏| 32/35 [01:27<00:07,  2.65s/it]<ipython-input-8-c8dc8d907cf9>:21: DataConversionWarning: A column-vector y was passed when a 1d array was expected. Please change the shape of y to (n_samples,), for example using ravel().\n",
            "  clf.fit(scaler.fit_transform(_x_train), y_train)\n",
            " 94%|█████████▍| 33/35 [01:29<00:05,  2.65s/it]<ipython-input-8-c8dc8d907cf9>:21: DataConversionWarning: A column-vector y was passed when a 1d array was expected. Please change the shape of y to (n_samples,), for example using ravel().\n",
            "  clf.fit(scaler.fit_transform(_x_train), y_train)\n",
            " 97%|█████████▋| 34/35 [01:32<00:02,  2.58s/it]<ipython-input-8-c8dc8d907cf9>:21: DataConversionWarning: A column-vector y was passed when a 1d array was expected. Please change the shape of y to (n_samples,), for example using ravel().\n",
            "  clf.fit(scaler.fit_transform(_x_train), y_train)\n",
            "100%|██████████| 35/35 [01:35<00:00,  2.72s/it]"
          ]
        },
        {
          "output_type": "stream",
          "name": "stdout",
          "text": [
            "[{'dropping': ['PT08.S1(CO)', 'PT08.S2(NMHC)', 'PT08.S3(NOx)'], 'remaining_cols': ['PT08.S5(O3)', 'T', 'RH', 'AH'], 'r2': 0.7450307043724238, 'rmse': 23.83831214374893}, {'dropping': ['PT08.S1(CO)', 'PT08.S2(NMHC)', 'PT08.S5(O3)'], 'remaining_cols': ['PT08.S3(NOx)', 'T', 'RH', 'AH'], 'r2': 0.7809279286305448, 'rmse': 22.096580330914065}, {'dropping': ['PT08.S1(CO)', 'PT08.S2(NMHC)', 'T'], 'remaining_cols': ['PT08.S3(NOx)', 'PT08.S5(O3)', 'RH', 'AH'], 'r2': 0.8084439931573577, 'rmse': 20.662337341257498}, {'dropping': ['PT08.S1(CO)', 'PT08.S2(NMHC)', 'RH'], 'remaining_cols': ['PT08.S3(NOx)', 'PT08.S5(O3)', 'T', 'AH'], 'r2': 0.8038563200186861, 'rmse': 20.908299845847527}, {'dropping': ['PT08.S1(CO)', 'PT08.S2(NMHC)', 'AH'], 'remaining_cols': ['PT08.S3(NOx)', 'PT08.S5(O3)', 'T', 'RH'], 'r2': 0.7900182872151118, 'rmse': 21.63327629672209}, {'dropping': ['PT08.S1(CO)', 'PT08.S3(NOx)', 'PT08.S5(O3)'], 'remaining_cols': ['PT08.S2(NMHC)', 'T', 'RH', 'AH'], 'r2': 0.7494607805142498, 'rmse': 23.630310060519864}, {'dropping': ['PT08.S1(CO)', 'PT08.S3(NOx)', 'T'], 'remaining_cols': ['PT08.S2(NMHC)', 'PT08.S5(O3)', 'RH', 'AH'], 'r2': 0.779819976801616, 'rmse': 22.15238632720036}, {'dropping': ['PT08.S1(CO)', 'PT08.S3(NOx)', 'RH'], 'remaining_cols': ['PT08.S2(NMHC)', 'PT08.S5(O3)', 'T', 'AH'], 'r2': 0.7819850686887022, 'rmse': 22.04320194176991}, {'dropping': ['PT08.S1(CO)', 'PT08.S3(NOx)', 'AH'], 'remaining_cols': ['PT08.S2(NMHC)', 'PT08.S5(O3)', 'T', 'RH'], 'r2': 0.7705775515640125, 'rmse': 22.61254870441114}, {'dropping': ['PT08.S1(CO)', 'PT08.S5(O3)', 'T'], 'remaining_cols': ['PT08.S2(NMHC)', 'PT08.S3(NOx)', 'RH', 'AH'], 'r2': 0.8188455717141863, 'rmse': 20.09352064796193}, {'dropping': ['PT08.S1(CO)', 'PT08.S5(O3)', 'RH'], 'remaining_cols': ['PT08.S2(NMHC)', 'PT08.S3(NOx)', 'T', 'AH'], 'r2': 0.8206849117265732, 'rmse': 19.99125124463074}, {'dropping': ['PT08.S1(CO)', 'PT08.S5(O3)', 'AH'], 'remaining_cols': ['PT08.S2(NMHC)', 'PT08.S3(NOx)', 'T', 'RH'], 'r2': 0.8015626299868752, 'rmse': 21.03019459888578}, {'dropping': ['PT08.S1(CO)', 'T', 'RH'], 'remaining_cols': ['PT08.S2(NMHC)', 'PT08.S3(NOx)', 'PT08.S5(O3)', 'AH'], 'r2': 0.8050008852874849, 'rmse': 20.847207060882322}, {'dropping': ['PT08.S1(CO)', 'T', 'AH'], 'remaining_cols': ['PT08.S2(NMHC)', 'PT08.S3(NOx)', 'PT08.S5(O3)', 'RH'], 'r2': 0.6426178497689956, 'rmse': 28.222662927195397}, {'dropping': ['PT08.S1(CO)', 'RH', 'AH'], 'remaining_cols': ['PT08.S2(NMHC)', 'PT08.S3(NOx)', 'PT08.S5(O3)', 'T'], 'r2': 0.7383921998315228, 'rmse': 24.14665096771421}, {'dropping': ['PT08.S2(NMHC)', 'PT08.S3(NOx)', 'PT08.S5(O3)'], 'remaining_cols': ['PT08.S1(CO)', 'T', 'RH', 'AH'], 'r2': 0.7364091825710872, 'rmse': 24.23799539211178}, {'dropping': ['PT08.S2(NMHC)', 'PT08.S3(NOx)', 'T'], 'remaining_cols': ['PT08.S1(CO)', 'PT08.S5(O3)', 'RH', 'AH'], 'r2': 0.7752272543550616, 'rmse': 22.382231607239984}, {'dropping': ['PT08.S2(NMHC)', 'PT08.S3(NOx)', 'RH'], 'remaining_cols': ['PT08.S1(CO)', 'PT08.S5(O3)', 'T', 'AH'], 'r2': 0.770399073887517, 'rmse': 22.62134263580769}, {'dropping': ['PT08.S2(NMHC)', 'PT08.S3(NOx)', 'AH'], 'remaining_cols': ['PT08.S1(CO)', 'PT08.S5(O3)', 'T', 'RH'], 'r2': 0.76262044719083, 'rmse': 23.0013440328306}, {'dropping': ['PT08.S2(NMHC)', 'PT08.S5(O3)', 'T'], 'remaining_cols': ['PT08.S1(CO)', 'PT08.S3(NOx)', 'RH', 'AH'], 'r2': 0.8026596060723442, 'rmse': 20.971985825991993}, {'dropping': ['PT08.S2(NMHC)', 'PT08.S5(O3)', 'RH'], 'remaining_cols': ['PT08.S1(CO)', 'PT08.S3(NOx)', 'T', 'AH'], 'r2': 0.8007151395120625, 'rmse': 21.075054850108}, {'dropping': ['PT08.S2(NMHC)', 'PT08.S5(O3)', 'AH'], 'remaining_cols': ['PT08.S1(CO)', 'PT08.S3(NOx)', 'T', 'RH'], 'r2': 0.7869119330950172, 'rmse': 21.792704242412224}, {'dropping': ['PT08.S2(NMHC)', 'T', 'RH'], 'remaining_cols': ['PT08.S1(CO)', 'PT08.S3(NOx)', 'PT08.S5(O3)', 'AH'], 'r2': 0.7820326411761954, 'rmse': 22.040796814849394}, {'dropping': ['PT08.S2(NMHC)', 'T', 'AH'], 'remaining_cols': ['PT08.S1(CO)', 'PT08.S3(NOx)', 'PT08.S5(O3)', 'RH'], 'r2': 0.6207158833733875, 'rmse': 29.07460934534535}, {'dropping': ['PT08.S2(NMHC)', 'RH', 'AH'], 'remaining_cols': ['PT08.S1(CO)', 'PT08.S3(NOx)', 'PT08.S5(O3)', 'T'], 'r2': 0.7049767465033872, 'rmse': 25.642459848291583}, {'dropping': ['PT08.S3(NOx)', 'PT08.S5(O3)', 'T'], 'remaining_cols': ['PT08.S1(CO)', 'PT08.S2(NMHC)', 'RH', 'AH'], 'r2': 0.7726166782696722, 'rmse': 22.5118332617303}, {'dropping': ['PT08.S3(NOx)', 'PT08.S5(O3)', 'RH'], 'remaining_cols': ['PT08.S1(CO)', 'PT08.S2(NMHC)', 'T', 'AH'], 'r2': 0.7743484464236431, 'rmse': 22.42594352202634}, {'dropping': ['PT08.S3(NOx)', 'PT08.S5(O3)', 'AH'], 'remaining_cols': ['PT08.S1(CO)', 'PT08.S2(NMHC)', 'T', 'RH'], 'r2': 0.7602286392650434, 'rmse': 23.116932990434236}, {'dropping': ['PT08.S3(NOx)', 'T', 'RH'], 'remaining_cols': ['PT08.S1(CO)', 'PT08.S2(NMHC)', 'PT08.S5(O3)', 'AH'], 'r2': 0.7701401202370388, 'rmse': 22.634095695198816}, {'dropping': ['PT08.S3(NOx)', 'T', 'AH'], 'remaining_cols': ['PT08.S1(CO)', 'PT08.S2(NMHC)', 'PT08.S5(O3)', 'RH'], 'r2': 0.6170820377215425, 'rmse': 29.213556356221638}, {'dropping': ['PT08.S3(NOx)', 'RH', 'AH'], 'remaining_cols': ['PT08.S1(CO)', 'PT08.S2(NMHC)', 'PT08.S5(O3)', 'T'], 'r2': 0.7164530779979312, 'rmse': 25.138770243544936}, {'dropping': ['PT08.S5(O3)', 'T', 'RH'], 'remaining_cols': ['PT08.S1(CO)', 'PT08.S2(NMHC)', 'PT08.S3(NOx)', 'AH'], 'r2': 0.8012699675268791, 'rmse': 21.04569692298617}, {'dropping': ['PT08.S5(O3)', 'T', 'AH'], 'remaining_cols': ['PT08.S1(CO)', 'PT08.S2(NMHC)', 'PT08.S3(NOx)', 'RH'], 'r2': 0.5856617619127992, 'rmse': 30.388486292247524}, {'dropping': ['PT08.S5(O3)', 'RH', 'AH'], 'remaining_cols': ['PT08.S1(CO)', 'PT08.S2(NMHC)', 'PT08.S3(NOx)', 'T'], 'r2': 0.7333720203275991, 'rmse': 24.377233712494657}, {'dropping': ['T', 'RH', 'AH'], 'remaining_cols': ['PT08.S1(CO)', 'PT08.S2(NMHC)', 'PT08.S3(NOx)', 'PT08.S5(O3)'], 'r2': 0.604108948696787, 'rmse': 29.70430548905703}]\n",
            ">>> Saved\n"
          ]
        },
        {
          "output_type": "stream",
          "name": "stderr",
          "text": [
            "\n"
          ]
        }
      ]
    },
    {
      "cell_type": "markdown",
      "source": [
        "There is no evidence of improvement from one or more feature deletions in the SVMs.\n",
        "Improvement instead in the Random Forest with the elimination of one of the features: \"T\", \"CO\" and \"RH\", and a combination of two of them (above the three no)"
      ],
      "metadata": {
        "id": "l2rZZwbI5KVW"
      }
    },
    {
      "cell_type": "markdown",
      "source": [
        "### Random forest without \"T\""
      ],
      "metadata": {
        "id": "3GyfZNlR5Td3"
      }
    },
    {
      "cell_type": "code",
      "source": [
        "data = pd.read_csv(\"data_dausare.csv\")\n",
        "data = data.set_index('Datetime')\n",
        "data = data.dropna(subset = [\"NO2(GT)\"])\n",
        "data = data.dropna(subset = [\"T\"])\n",
        "\n",
        "data_T = data.drop(['T'], axis=1)"
      ],
      "metadata": {
        "id": "KdxRx2gm5w7a"
      },
      "execution_count": null,
      "outputs": []
    },
    {
      "cell_type": "code",
      "source": [
        "x = data_T.drop(['NO2(GT)'], axis = 1)\n",
        "y = pd.DataFrame(data['NO2(GT)'])\n",
        "\n",
        "x_train, x_test, y_train, y_test = train_test_split(x, y, test_size = 0.2, random_state = seed, shuffle = True)\n",
        "x_train, x_val, y_train, y_val = train_test_split(x_train, y_train, test_size = 0.15, random_state = seed, shuffle = True)"
      ],
      "metadata": {
        "id": "ecl_cTMh6HDB"
      },
      "execution_count": null,
      "outputs": []
    },
    {
      "cell_type": "code",
      "source": [
        "for max_depth in [2, 3, 4, 5, 7, 20]:\n",
        "    for n_estimators in [50, 100, 200, 500]:\n",
        "        clf = RandomForestRegressor(random_state=seed, max_depth=max_depth, n_estimators=n_estimators)\n",
        "        scaler = StandardScaler()\n",
        "        scaler_y = StandardScaler()\n",
        "\n",
        "        clf.fit(scaler.fit_transform(x_train), np.ravel(scaler_y.fit_transform(y_train)))\n",
        "        r2 = clf.score(scaler.transform(x_val), np.ravel(scaler_y.transform(y_val)))\n",
        "        y_hat = clf.predict(scaler.transform(x_val))\n",
        "        rmse = metrics.mean_squared_error(np.ravel(scaler_y.transform(y_val)), y_hat, squared=False)\n",
        "        print(f'{max_depth=}, {n_estimators=}, {r2=}, {rmse=}')"
      ],
      "metadata": {
        "colab": {
          "base_uri": "https://localhost:8080/"
        },
        "id": "EbSTHgjz5L-j",
        "outputId": "0aec6d5a-37ca-4d49-997a-b4c1d19f8bf3"
      },
      "execution_count": null,
      "outputs": [
        {
          "output_type": "stream",
          "name": "stdout",
          "text": [
            "max_depth=2, n_estimators=50, r2=0.49550028188102013, rmse=0.6871160095221396\n",
            "max_depth=2, n_estimators=100, r2=0.4942843325473253, rmse=0.6879435574855572\n",
            "max_depth=2, n_estimators=200, r2=0.4921707441706028, rmse=0.6893796544111234\n",
            "max_depth=2, n_estimators=500, r2=0.49305873556577673, rmse=0.6887766652806105\n",
            "max_depth=3, n_estimators=50, r2=0.6102628640425078, rmse=0.6039284629677334\n",
            "max_depth=3, n_estimators=100, r2=0.6113651013642266, rmse=0.603073856422492\n",
            "max_depth=3, n_estimators=200, r2=0.6125555891226627, rmse=0.6021494634931815\n",
            "max_depth=3, n_estimators=500, r2=0.6146404588688509, rmse=0.6005271706175189\n",
            "max_depth=4, n_estimators=50, r2=0.6770203595779023, rmse=0.5497777719704946\n",
            "max_depth=4, n_estimators=100, r2=0.6787980647921783, rmse=0.5482626743511589\n",
            "max_depth=4, n_estimators=200, r2=0.6808356038106073, rmse=0.54652096034393\n",
            "max_depth=4, n_estimators=500, r2=0.6827242696012983, rmse=0.5449015331749005\n",
            "max_depth=5, n_estimators=50, r2=0.7447039219097285, rmse=0.48878928297921204\n",
            "max_depth=5, n_estimators=100, r2=0.746724344334984, rmse=0.486851292971529\n",
            "max_depth=5, n_estimators=200, r2=0.7482326793223325, rmse=0.4853994530732454\n",
            "max_depth=5, n_estimators=500, r2=0.7497541725744133, rmse=0.4839305349500641\n",
            "max_depth=7, n_estimators=50, r2=0.7936942168602068, rmse=0.4393951963280385\n",
            "max_depth=7, n_estimators=100, r2=0.7955330241445334, rmse=0.43743264469440984\n",
            "max_depth=7, n_estimators=200, r2=0.797139609950973, rmse=0.435710706410818\n",
            "max_depth=7, n_estimators=500, r2=0.7977650193547196, rmse=0.4350385497570927\n",
            "max_depth=20, n_estimators=50, r2=0.8159169631330353, rmse=0.41505580162338557\n",
            "max_depth=20, n_estimators=100, r2=0.8189255298276241, rmse=0.41165009042213\n",
            "max_depth=20, n_estimators=200, r2=0.819611369674083, rmse=0.4108697654061372\n",
            "max_depth=20, n_estimators=500, r2=0.821080171119406, rmse=0.40919360768031915\n"
          ]
        }
      ]
    },
    {
      "cell_type": "code",
      "source": [
        "n_estimators = 100\n",
        "res = []\n",
        "for max_depth in range(2, 21): \n",
        "    clf = RandomForestRegressor(random_state=seed, max_depth=max_depth, n_estimators=n_estimators)\n",
        "    scaler = StandardScaler()\n",
        "    scaler_y = StandardScaler()\n",
        "\n",
        "    clf.fit(scaler.fit_transform(x_train), np.ravel(scaler_y.fit_transform(y_train)))\n",
        "    r2 = clf.score(scaler.transform(x_val), np.ravel(scaler_y.transform(y_val)))\n",
        "    y_hat = clf.predict(scaler.transform(x_val))\n",
        "    rmse = metrics.mean_squared_error(np.ravel(scaler_y.transform(y_val)), y_hat, squared=False)\n",
        "    print(f'{max_depth=}, {n_estimators=}, {r2=}, {rmse=}')\n",
        "    res.append(rmse)"
      ],
      "metadata": {
        "colab": {
          "base_uri": "https://localhost:8080/"
        },
        "id": "KdIGIQ1i6fDY",
        "outputId": "54680f65-eb19-414e-f6e7-8e5e5152ad58"
      },
      "execution_count": null,
      "outputs": [
        {
          "output_type": "stream",
          "name": "stdout",
          "text": [
            "max_depth=2, n_estimators=100, r2=0.4942843325473253, rmse=0.6879435574855572\n",
            "max_depth=3, n_estimators=100, r2=0.6113651013642266, rmse=0.603073856422492\n",
            "max_depth=4, n_estimators=100, r2=0.6787980647921783, rmse=0.5482626743511589\n",
            "max_depth=5, n_estimators=100, r2=0.746724344334984, rmse=0.486851292971529\n",
            "max_depth=6, n_estimators=100, r2=0.7777188988057716, rmse=0.45609033940018595\n",
            "max_depth=7, n_estimators=100, r2=0.7955330241445334, rmse=0.43743264469440984\n",
            "max_depth=8, n_estimators=100, r2=0.8049399281180508, rmse=0.42725169422129866\n",
            "max_depth=9, n_estimators=100, r2=0.8106387229737022, rmse=0.42096422587988314\n",
            "max_depth=10, n_estimators=100, r2=0.8133939349728595, rmse=0.41789048338482276\n",
            "max_depth=11, n_estimators=100, r2=0.815197061229289, rmse=0.41586659849121255\n",
            "max_depth=12, n_estimators=100, r2=0.8177636700875945, rmse=0.41296864985472154\n",
            "max_depth=13, n_estimators=100, r2=0.8170697471936506, rmse=0.41375415765874296\n",
            "max_depth=14, n_estimators=100, r2=0.8179048543748209, rmse=0.4128086488782287\n",
            "max_depth=15, n_estimators=100, r2=0.8175517703273887, rmse=0.41320867481212603\n",
            "max_depth=16, n_estimators=100, r2=0.8186993860936235, rmse=0.41190706491704854\n",
            "max_depth=17, n_estimators=100, r2=0.8193642898343626, rmse=0.4111510550223227\n",
            "max_depth=18, n_estimators=100, r2=0.8188161698386679, rmse=0.411774379766135\n",
            "max_depth=19, n_estimators=100, r2=0.8192326954093272, rmse=0.41130079101921185\n",
            "max_depth=20, n_estimators=100, r2=0.8189255298276241, rmse=0.41165009042213\n"
          ]
        }
      ]
    },
    {
      "cell_type": "code",
      "source": [
        "import matplotlib.pyplot as plt\n",
        "fig, ax = plt.subplots(figsize=(10,4))\n",
        "ax.plot(range(2,21), res)\n",
        "plt.xlabel(\"max depth\")\n",
        "plt.ylabel(\"RMSE\")\n",
        "plt.xticks(range(2, 21), range(2, 21))\n",
        "plt.show()"
      ],
      "metadata": {
        "colab": {
          "base_uri": "https://localhost:8080/",
          "height": 391
        },
        "id": "Vw1XWeoW7jLe",
        "outputId": "f5b3b3b3-5224-47fe-80a0-3b6022618f5b"
      },
      "execution_count": null,
      "outputs": [
        {
          "output_type": "display_data",
          "data": {
            "text/plain": [
              "<Figure size 1000x400 with 1 Axes>"
            ],
            "image/png": "[encoded data removed]"
          },
          "metadata": {}
        }
      ]
    },
    {
      "cell_type": "code",
      "source": [
        "# Selected parameters\n",
        "n_estimators = 100\n",
        "max_depth = 8"
      ],
      "metadata": {
        "id": "kUh4DQGh7y2S"
      },
      "execution_count": null,
      "outputs": []
    },
    {
      "cell_type": "code",
      "source": [
        "print(f'RF, {max_depth = }, {n_estimators = }')\n",
        "clf = RandomForestRegressor(max_depth=max_depth, n_estimators=n_estimators)\n",
        "scaler = StandardScaler()\n",
        "scaler_y = StandardScaler()\n",
        "\n",
        "clf.fit(scaler.fit_transform(x_train), np.ravel(scaler_y.fit_transform(y_train)))\n",
        "r2 = clf.score(scaler.transform(x_val), np.ravel(scaler_y.transform(y_val)))\n",
        "y_hat = clf.predict(scaler.transform(x_val))\n",
        "\n",
        "rmse = metrics.mean_squared_error(np.ravel(scaler_y.transform(y_val)), y_hat, squared=False)\n",
        "print(f'VAL: {r2 = }, {rmse = }')\n",
        "\n",
        "r2 = clf.score(scaler.transform(x_test), np.ravel(scaler_y.transform(y_test)))\n",
        "y_hat = clf.predict(scaler.transform(x_test))\n",
        "rmse = metrics.mean_squared_error(np.ravel(scaler_y.transform(y_test)), y_hat, squared=False)\n",
        "print(f'TEST: {r2 = }, {rmse = }')"
      ],
      "metadata": {
        "colab": {
          "base_uri": "https://localhost:8080/"
        },
        "id": "AKvoNfup7u1h",
        "outputId": "ab66e1fb-e2c0-4bb5-9ea6-b11dcfdbd72a"
      },
      "execution_count": null,
      "outputs": [
        {
          "output_type": "stream",
          "name": "stdout",
          "text": [
            "RF, max_depth = 8, n_estimators = 100\n",
            "VAL: r2 = 0.8046190292725639, rmse = 0.42760299172613114\n",
            "TEST: r2 = 0.8296371685553293, rmse = 0.40266895109021483\n"
          ]
        }
      ]
    },
    {
      "cell_type": "markdown",
      "source": [
        "### Random Forest without \"CO2\" and \"T\""
      ],
      "metadata": {
        "id": "j230sWt173cw"
      }
    },
    {
      "cell_type": "code",
      "source": [
        "data = pd.read_csv(\"data_dausare.csv\")\n",
        "data = data.set_index('Datetime')\n",
        "data = data.dropna(subset = [\"NO2(GT)\"])\n",
        "data = data.dropna(subset = [\"T\"])\n",
        "\n",
        "data_TNO = data.drop(['T'], axis=1)\n",
        "data_TNO = data.drop(['PT08.S1(CO)'], axis=1)"
      ],
      "metadata": {
        "id": "qqYLwsbJ8Qdq"
      },
      "execution_count": null,
      "outputs": []
    },
    {
      "cell_type": "code",
      "source": [
        "x = data_T.drop(['NO2(GT)'], axis = 1)\n",
        "y = pd.DataFrame(data['NO2(GT)'])\n",
        "\n",
        "x_train, x_test, y_train, y_test = train_test_split(x, y, test_size = 0.2, random_state = seed, shuffle = True)\n",
        "x_train, x_val, y_train, y_val = train_test_split(x_train, y_train, test_size = 0.15, random_state = seed, shuffle = True)"
      ],
      "metadata": {
        "id": "xJibGhk28d-G"
      },
      "execution_count": null,
      "outputs": []
    },
    {
      "cell_type": "code",
      "source": [
        "for max_depth in [2, 3, 4, 5, 7, 20]:\n",
        "    for n_estimators in [50, 100, 200, 500]:\n",
        "        clf = RandomForestRegressor(random_state=seed, max_depth=max_depth, n_estimators=n_estimators)\n",
        "        scaler = StandardScaler()\n",
        "        scaler_y = StandardScaler()\n",
        "\n",
        "        clf.fit(scaler.fit_transform(x_train), np.ravel(scaler_y.fit_transform(y_train)))\n",
        "        r2 = clf.score(scaler.transform(x_val), np.ravel(scaler_y.transform(y_val)))\n",
        "        y_hat = clf.predict(scaler.transform(x_val))\n",
        "        rmse = metrics.mean_squared_error(np.ravel(scaler_y.transform(y_val)), y_hat, squared=False)\n",
        "        print(f'{max_depth=}, {n_estimators=}, {r2=}, {rmse=}')"
      ],
      "metadata": {
        "colab": {
          "base_uri": "https://localhost:8080/"
        },
        "id": "PRME3LHC8lwY",
        "outputId": "8f08707f-532a-44a1-89dc-ea40fed2141e"
      },
      "execution_count": null,
      "outputs": [
        {
          "output_type": "stream",
          "name": "stdout",
          "text": [
            "max_depth=2, n_estimators=50, r2=0.49550028188102013, rmse=0.6871160095221396\n",
            "max_depth=2, n_estimators=100, r2=0.4942843325473253, rmse=0.6879435574855572\n",
            "max_depth=2, n_estimators=200, r2=0.4921707441706028, rmse=0.6893796544111234\n",
            "max_depth=2, n_estimators=500, r2=0.49305873556577673, rmse=0.6887766652806105\n",
            "max_depth=3, n_estimators=50, r2=0.6102628640425078, rmse=0.6039284629677334\n",
            "max_depth=3, n_estimators=100, r2=0.6113651013642266, rmse=0.603073856422492\n",
            "max_depth=3, n_estimators=200, r2=0.6125555891226627, rmse=0.6021494634931815\n",
            "max_depth=3, n_estimators=500, r2=0.6146404588688509, rmse=0.6005271706175189\n",
            "max_depth=4, n_estimators=50, r2=0.6770203595779023, rmse=0.5497777719704946\n",
            "max_depth=4, n_estimators=100, r2=0.6787980647921783, rmse=0.5482626743511589\n",
            "max_depth=4, n_estimators=200, r2=0.6808356038106073, rmse=0.54652096034393\n",
            "max_depth=4, n_estimators=500, r2=0.6827242696012983, rmse=0.5449015331749005\n",
            "max_depth=5, n_estimators=50, r2=0.7447039219097285, rmse=0.48878928297921204\n",
            "max_depth=5, n_estimators=100, r2=0.746724344334984, rmse=0.486851292971529\n",
            "max_depth=5, n_estimators=200, r2=0.7482326793223325, rmse=0.4853994530732454\n",
            "max_depth=5, n_estimators=500, r2=0.7497541725744133, rmse=0.4839305349500641\n",
            "max_depth=7, n_estimators=50, r2=0.7936942168602068, rmse=0.4393951963280385\n",
            "max_depth=7, n_estimators=100, r2=0.7955330241445334, rmse=0.43743264469440984\n",
            "max_depth=7, n_estimators=200, r2=0.797139609950973, rmse=0.435710706410818\n",
            "max_depth=7, n_estimators=500, r2=0.7977650193547196, rmse=0.4350385497570927\n",
            "max_depth=20, n_estimators=50, r2=0.8159169631330353, rmse=0.41505580162338557\n",
            "max_depth=20, n_estimators=100, r2=0.8189255298276241, rmse=0.41165009042213\n",
            "max_depth=20, n_estimators=200, r2=0.819611369674083, rmse=0.4108697654061372\n",
            "max_depth=20, n_estimators=500, r2=0.821080171119406, rmse=0.40919360768031915\n"
          ]
        }
      ]
    },
    {
      "cell_type": "code",
      "source": [
        "n_estimators = 100\n",
        "res = []\n",
        "for max_depth in range(2, 21): \n",
        "    clf = RandomForestRegressor(random_state=seed, max_depth=max_depth, n_estimators=n_estimators)\n",
        "    scaler = StandardScaler()\n",
        "    scaler_y = StandardScaler()\n",
        "\n",
        "    clf.fit(scaler.fit_transform(x_train), np.ravel(scaler_y.fit_transform(y_train)))\n",
        "    r2 = clf.score(scaler.transform(x_val), np.ravel(scaler_y.transform(y_val)))\n",
        "    y_hat = clf.predict(scaler.transform(x_val))\n",
        "    rmse = metrics.mean_squared_error(np.ravel(scaler_y.transform(y_val)), y_hat, squared=False)\n",
        "    print(f'{max_depth=}, {n_estimators=}, {r2=}, {rmse=}')\n",
        "    res.append(rmse)"
      ],
      "metadata": {
        "colab": {
          "base_uri": "https://localhost:8080/"
        },
        "id": "2NL6TTSP8msL",
        "outputId": "2e69ab8f-7e8a-41a1-fc33-aa7562ad1249"
      },
      "execution_count": null,
      "outputs": [
        {
          "output_type": "stream",
          "name": "stdout",
          "text": [
            "max_depth=2, n_estimators=100, r2=0.4942843325473253, rmse=0.6879435574855572\n",
            "max_depth=3, n_estimators=100, r2=0.6113651013642266, rmse=0.603073856422492\n",
            "max_depth=4, n_estimators=100, r2=0.6787980647921783, rmse=0.5482626743511589\n",
            "max_depth=5, n_estimators=100, r2=0.746724344334984, rmse=0.486851292971529\n",
            "max_depth=6, n_estimators=100, r2=0.7777188988057716, rmse=0.45609033940018595\n",
            "max_depth=7, n_estimators=100, r2=0.7955330241445334, rmse=0.43743264469440984\n",
            "max_depth=8, n_estimators=100, r2=0.8049399281180508, rmse=0.42725169422129866\n",
            "max_depth=9, n_estimators=100, r2=0.8106387229737022, rmse=0.42096422587988314\n",
            "max_depth=10, n_estimators=100, r2=0.8133939349728595, rmse=0.41789048338482276\n",
            "max_depth=11, n_estimators=100, r2=0.815197061229289, rmse=0.41586659849121255\n",
            "max_depth=12, n_estimators=100, r2=0.8177636700875945, rmse=0.41296864985472154\n",
            "max_depth=13, n_estimators=100, r2=0.8170697471936506, rmse=0.41375415765874296\n",
            "max_depth=14, n_estimators=100, r2=0.8179048543748209, rmse=0.4128086488782287\n",
            "max_depth=15, n_estimators=100, r2=0.8175517703273887, rmse=0.41320867481212603\n",
            "max_depth=16, n_estimators=100, r2=0.8186993860936235, rmse=0.41190706491704854\n",
            "max_depth=17, n_estimators=100, r2=0.8193642898343626, rmse=0.4111510550223227\n",
            "max_depth=18, n_estimators=100, r2=0.8188161698386679, rmse=0.411774379766135\n",
            "max_depth=19, n_estimators=100, r2=0.8192326954093272, rmse=0.41130079101921185\n",
            "max_depth=20, n_estimators=100, r2=0.8189255298276241, rmse=0.41165009042213\n"
          ]
        }
      ]
    },
    {
      "cell_type": "code",
      "source": [
        "import matplotlib.pyplot as plt\n",
        "fig, ax = plt.subplots(figsize=(10,4))\n",
        "ax.plot(range(2,21), res)\n",
        "plt.xlabel(\"max depth\")\n",
        "plt.ylabel(\"RMSE\")\n",
        "plt.xticks(range(2, 21), range(2, 21))\n",
        "plt.show()"
      ],
      "metadata": {
        "colab": {
          "base_uri": "https://localhost:8080/",
          "height": 391
        },
        "id": "671gvoYV8pBh",
        "outputId": "8c24e2c1-0b9f-40a9-8a1e-bf5b26526fd1"
      },
      "execution_count": null,
      "outputs": [
        {
          "output_type": "display_data",
          "data": {
            "text/plain": [
              "<Figure size 1000x400 with 1 Axes>"
            ],
            "image/png": "[encoded data removed]"
          },
          "metadata": {}
        }
      ]
    },
    {
      "cell_type": "code",
      "source": [
        "# Selected parameters\n",
        "n_estimators = 100\n",
        "max_depth = 8"
      ],
      "metadata": {
        "id": "YgbHX3JT8sgR"
      },
      "execution_count": null,
      "outputs": []
    },
    {
      "cell_type": "code",
      "source": [
        "print(f'RF, {max_depth = }, {n_estimators = }')\n",
        "clf = RandomForestRegressor(max_depth=max_depth, n_estimators=n_estimators)\n",
        "scaler = StandardScaler()\n",
        "scaler_y = StandardScaler()\n",
        "\n",
        "clf.fit(scaler.fit_transform(x_train), np.ravel(scaler_y.fit_transform(y_train)))\n",
        "r2 = clf.score(scaler.transform(x_val), np.ravel(scaler_y.transform(y_val)))\n",
        "y_hat = clf.predict(scaler.transform(x_val))\n",
        "\n",
        "rmse = metrics.mean_squared_error(np.ravel(scaler_y.transform(y_val)), y_hat, squared=False)\n",
        "print(f'VAL: {r2 = }, {rmse = }')\n",
        "\n",
        "r2 = clf.score(scaler.transform(x_test), np.ravel(scaler_y.transform(y_test)))\n",
        "y_hat = clf.predict(scaler.transform(x_test))\n",
        "rmse = metrics.mean_squared_error(np.ravel(scaler_y.transform(y_test)), y_hat, squared=False)\n",
        "print(f'TEST: {r2 = }, {rmse = }')"
      ],
      "metadata": {
        "colab": {
          "base_uri": "https://localhost:8080/"
        },
        "id": "FoF9XhLy8uh-",
        "outputId": "281fa29f-9327-40e2-db3c-52af69d7a04d"
      },
      "execution_count": null,
      "outputs": [
        {
          "output_type": "stream",
          "name": "stdout",
          "text": [
            "RF, max_depth = 8, n_estimators = 100\n",
            "VAL: r2 = 0.8063465784996325, rmse = 0.4257083717605302\n",
            "TEST: r2 = 0.8298817026195691, rmse = 0.4023798574139806\n"
          ]
        }
      ]
    },
    {
      "cell_type": "markdown",
      "source": [
        "### Feature selection on Neural Network"
      ],
      "metadata": {
        "id": "XLXrpiT0BGbN"
      }
    },
    {
      "cell_type": "code",
      "source": [
        "import warnings\n",
        "from sklearn.model_selection import train_test_split\n",
        "from tensorflow.keras.regularizers import L1\n",
        "import tensorflow as tf\n",
        "from tensorflow import keras\n",
        "from tensorflow.keras import layers\n",
        "from sklearn.metrics import mean_squared_error, r2_score\n",
        "seed = 42"
      ],
      "metadata": {
        "id": "uu8CqZjbB77j"
      },
      "execution_count": 6,
      "outputs": []
    },
    {
      "cell_type": "code",
      "source": [
        "# Load the CSV file\n",
        "data = pd.read_csv(\"data_dausare.csv\")\n",
        "data = data.set_index('Datetime')\n",
        "# Remove any missing values\n",
        "data = data.dropna(subset = [\"NO2(GT)\"])\n",
        "data = data.dropna(subset = [\"T\"])\n",
        "\n",
        "from sklearn.preprocessing import MinMaxScaler\n",
        "\n",
        "target = pd.DataFrame(data['NO2(GT)'])\n",
        "X = data.drop(['NO2(GT)'], axis=1)\n",
        "print('NO2 data_normset shape',X.shape)\n",
        "print('Target shape', target.shape)\n",
        "X.describe()\n",
        "\n",
        "scaler_x = MinMaxScaler()\n",
        "x_scaled = scaler_x.fit_transform(X)\n",
        "x_scaled = pd.DataFrame(x_scaled, columns=X.columns)\n",
        "\n",
        "scaler_y = MinMaxScaler()\n",
        "y_scaled = scaler_y.fit_transform(target) \n",
        "y_scaled = pd.DataFrame(y_scaled, columns=target.columns)\n",
        "\n",
        "x_train, x_test, y_train, y_test = train_test_split(X, target, test_size=0.2, random_state=seed, shuffle=True)\n",
        "x_train, x_val, y_train, y_val = train_test_split(x_train, y_train, test_size=0.15, random_state=seed, shuffle=True)\n",
        "\n",
        "K = 1\n",
        "all_cols = [c for c in list(x_train.columns.values)]\n",
        "assert 1 <= K and K <= len(all_cols)\n",
        "print(f'>>> {K=}')\n",
        "\n",
        "cols = [list(x) for x in itertools.combinations(all_cols, K)]\n",
        "\n",
        "scaler = StandardScaler()\n",
        "res = []\n",
        "for c in tqdm(cols):\n",
        "    _x_train = x_train.drop(columns=c) \n",
        "    _x_val = x_val.drop(columns=c)\n",
        "    _x_train = x_train.drop(columns=c)\n",
        "    _x_test = x_test.drop(columns=c)\n",
        "    input_shape = _x_train.shape[1:]\n",
        "\n",
        "\n",
        "    def build_model():\n",
        "        model=keras.Sequential([\n",
        "            layers.Dense(128, activation='relu', input_shape=input_shape),\n",
        "            layers.Dense(64, activation='relu'),\n",
        "            layers.Dense(32, activation='relu'),\n",
        "            layers.Dense(1)\n",
        "        ])\n",
        "\n",
        "        # No activation is used in the last layer as this is regression\n",
        "        optimizer= tf.keras.optimizers.Adam(0.001)\n",
        "        \n",
        "        model.compile(loss='mse',\n",
        "                    optimizer= optimizer,\n",
        "                    metrics= ['mae', 'mse'])\n",
        "        return model\n",
        "\n",
        "    model = build_model()\n",
        "    early_stopping_cb = keras.callbacks.EarlyStopping(monitor='val_loss', patience=20, verbose=1, mode='min', restore_best_weights=False)\n",
        "    model.fit(\n",
        "    _x_train, y_train,\n",
        "    epochs=200,\n",
        "    validation_data=(_x_val, y_val),\n",
        "    verbose=0, \n",
        "    callbacks= [early_stopping_cb])\n",
        "\n",
        "    y_pred = model.predict(_x_test)\n",
        "    r2 = r2_score(y_test,y_pred)\n",
        "    \n",
        "    rmse = mean_squared_error(y_test,y_pred)\n",
        "    res.append({\n",
        "        'dropping': c,\n",
        "        'remaining_cols': list(_x_train.columns.values),\n",
        "        'r2': r2,\n",
        "        'rmse': rmse,\n",
        "    })\n",
        "\n",
        "\n",
        "print(res)\n",
        "pd.DataFrame(res).to_csv(f'NN_{K}_select.csv')\n",
        "print('>>> Saved')"
      ],
      "metadata": {
        "id": "a7ao9kd0BMcm",
        "colab": {
          "base_uri": "https://localhost:8080/"
        },
        "outputId": "7decbef0-834c-4c5f-afc2-91eafa45fb10"
      },
      "execution_count": 10,
      "outputs": [
        {
          "output_type": "stream",
          "name": "stdout",
          "text": [
            "NO2 data_normset shape (7393, 7)\n",
            "Target shape (7393, 1)\n",
            ">>> K=1\n"
          ]
        },
        {
          "output_type": "stream",
          "name": "stderr",
          "text": [
            "\r  0%|          | 0/7 [00:00<?, ?it/s]"
          ]
        },
        {
          "output_type": "stream",
          "name": "stdout",
          "text": [
            "Epoch 123: early stopping\n",
            "47/47 [==============================] - 0s 2ms/step\n"
          ]
        },
        {
          "output_type": "stream",
          "name": "stderr",
          "text": [
            "\r 14%|█▍        | 1/7 [00:52<05:12, 52.16s/it]"
          ]
        },
        {
          "output_type": "stream",
          "name": "stdout",
          "text": [
            "Epoch 96: early stopping\n",
            "47/47 [==============================] - 0s 2ms/step\n"
          ]
        },
        {
          "output_type": "stream",
          "name": "stderr",
          "text": [
            "\r 29%|██▊       | 2/7 [01:30<03:39, 43.87s/it]"
          ]
        },
        {
          "output_type": "stream",
          "name": "stdout",
          "text": [
            "47/47 [==============================] - 0s 2ms/step\n"
          ]
        },
        {
          "output_type": "stream",
          "name": "stderr",
          "text": [
            "\r 43%|████▎     | 3/7 [02:53<04:08, 62.06s/it]"
          ]
        },
        {
          "output_type": "stream",
          "name": "stdout",
          "text": [
            "Epoch 115: early stopping\n",
            "47/47 [==============================] - 0s 2ms/step\n"
          ]
        },
        {
          "output_type": "stream",
          "name": "stderr",
          "text": [
            "\r 57%|█████▋    | 4/7 [03:42<02:50, 56.80s/it]"
          ]
        },
        {
          "output_type": "stream",
          "name": "stdout",
          "text": [
            "Epoch 139: early stopping\n",
            "47/47 [==============================] - 0s 2ms/step\n"
          ]
        },
        {
          "output_type": "stream",
          "name": "stderr",
          "text": [
            "\r 71%|███████▏  | 5/7 [05:05<02:12, 66.35s/it]"
          ]
        },
        {
          "output_type": "stream",
          "name": "stdout",
          "text": [
            "Epoch 67: early stopping\n",
            "47/47 [==============================] - 0s 2ms/step\n"
          ]
        },
        {
          "output_type": "stream",
          "name": "stderr",
          "text": [
            "\r 86%|████████▌ | 6/7 [05:34<00:53, 53.53s/it]"
          ]
        },
        {
          "output_type": "stream",
          "name": "stdout",
          "text": [
            "Epoch 150: early stopping\n",
            "47/47 [==============================] - 0s 2ms/step\n"
          ]
        },
        {
          "output_type": "stream",
          "name": "stderr",
          "text": [
            "100%|██████████| 7/7 [06:57<00:00, 59.69s/it]"
          ]
        },
        {
          "output_type": "stream",
          "name": "stdout",
          "text": [
            "[{'dropping': ['PT08.S1(CO)'], 'remaining_cols': ['PT08.S2(NMHC)', 'PT08.S3(NOx)', 'PT08.S5(O3)', 'T', 'RH', 'AH'], 'r2': 0.7420413710585805, 'rmse': 566.4479218418949}, {'dropping': ['PT08.S2(NMHC)'], 'remaining_cols': ['PT08.S1(CO)', 'PT08.S3(NOx)', 'PT08.S5(O3)', 'T', 'RH', 'AH'], 'r2': 0.7399680543907097, 'rmse': 571.0006903329318}, {'dropping': ['PT08.S3(NOx)'], 'remaining_cols': ['PT08.S1(CO)', 'PT08.S2(NMHC)', 'PT08.S5(O3)', 'T', 'RH', 'AH'], 'r2': 0.7573226098579211, 'rmse': 532.8920528384897}, {'dropping': ['PT08.S5(O3)'], 'remaining_cols': ['PT08.S1(CO)', 'PT08.S2(NMHC)', 'PT08.S3(NOx)', 'T', 'RH', 'AH'], 'r2': 0.7169808350425448, 'rmse': 621.4780195160108}, {'dropping': ['T'], 'remaining_cols': ['PT08.S1(CO)', 'PT08.S2(NMHC)', 'PT08.S3(NOx)', 'PT08.S5(O3)', 'RH', 'AH'], 'r2': 0.6222940822990308, 'rmse': 829.3994003111499}, {'dropping': ['RH'], 'remaining_cols': ['PT08.S1(CO)', 'PT08.S2(NMHC)', 'PT08.S3(NOx)', 'PT08.S5(O3)', 'T', 'AH'], 'r2': 0.6397623506295174, 'rmse': 791.0410622528879}, {'dropping': ['AH'], 'remaining_cols': ['PT08.S1(CO)', 'PT08.S2(NMHC)', 'PT08.S3(NOx)', 'PT08.S5(O3)', 'T', 'RH'], 'r2': 0.775343713908887, 'rmse': 493.31975017563}]\n",
            ">>> Saved\n"
          ]
        },
        {
          "output_type": "stream",
          "name": "stderr",
          "text": [
            "\n"
          ]
        }
      ]
    },
    {
      "cell_type": "markdown",
      "source": [
        "worsening in any case"
      ],
      "metadata": {
        "id": "lXG4TVoBOT5V"
      }
    }
  ]
}